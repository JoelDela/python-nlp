{
 "metadata": {
  "name": "",
  "signature": "sha256:aba53debb3d3a2b53d54f772b08eaa25ad0a6e0cacd5277796ef435d27e3678b"
 },
 "nbformat": 3,
 "nbformat_minor": 0,
 "worksheets": [
  {
   "cells": [
    {
     "cell_type": "markdown",
     "metadata": {},
     "source": [
      "# Ejercicio 1\n",
      "\n",
      "1. Crea una lista de palabras y gu\u00e1rdala en una variable\n",
      "\n",
      "2. Recorre la lista y:\n",
      "\n",
      "    - si la palabra en cuesti\u00f3n cotiene la letra \"a\", imprime el elemento pasando a may\u00fasculas\n",
      "\n",
      "    - si contiene la \"i\", imprime el elemento pasando las may\u00fasculas a min\u00fasculas, y las min\u00fasculas a may\u00fasculas\n",
      "\n",
      "    - en cualquier caso, imprime el mensaje \"esta palabra no tiene a ni i\"\n"
     ]
    },
    {
     "cell_type": "code",
     "collapsed": false,
     "input": [
      "palabras = \"AmApOla zul\u00fa MENDIGO chOcOlatE hiEna oRdenadoR m\u00fasica\".split()\n",
      "\n",
      "for palabra in palabras:\n",
      "    if \"a\" in palabra or \"A\" in palabra:\n",
      "        print palabra.upper()\n",
      "    elif \"i\" in palabra or \"I\" in palabra:\n",
      "        print palabra.swapcase()\n",
      "    else:\n",
      "        print palabra, \"no contiene ni 'a' ni 'i'\"        "
     ],
     "language": "python",
     "metadata": {},
     "outputs": [
      {
       "output_type": "stream",
       "stream": "stdout",
       "text": [
        "AMAPOLA\n",
        "zul\u00fa no contiene ni 'a' ni 'i'\n",
        "mendigo\n",
        "CHOCOLATE\n",
        "HIENA\n",
        "ORDENADOR\n",
        "M\u00faSICA\n"
       ]
      }
     ],
     "prompt_number": 12
    },
    {
     "cell_type": "code",
     "collapsed": false,
     "input": [
      "palabras = \"AmApOla zul\u00fa MENDIGO chOcOlatE hiEna oRdenadoR m\u00fasica\".split()\n",
      "\n",
      "for palabra in palabras:\n",
      "    if \"a\" in palabra or \"A\" in palabra:\n",
      "        print palabra.upper()\n",
      "    if \"i\" in palabra or \"I\" in palabra:\n",
      "        print palabra.swapcase()\n"
     ],
     "language": "python",
     "metadata": {},
     "outputs": [
      {
       "output_type": "stream",
       "stream": "stdout",
       "text": [
        "AMAPOLA\n",
        "mendigo\n",
        "CHOCOLATE\n",
        "HIENA\n",
        "HIeNA\n",
        "ORDENADOR\n",
        "M\u00faSICA\n",
        "M\u00faSICA\n"
       ]
      }
     ],
     "prompt_number": 14
    },
    {
     "cell_type": "markdown",
     "metadata": {},
     "source": [
      "#Ejercicio 2.\n",
      "\n",
      "Vamos a cargar en la variable `palabras` una lista de palabras en espa\u00f1ol."
     ]
    },
    {
     "cell_type": "code",
     "collapsed": false,
     "input": [
      "from nltk.corpus import stopwords\n",
      "palabras = stopwords.words(\"spanish\")\n",
      "parole = stopwords.words(\"italian\")"
     ],
     "language": "python",
     "metadata": {},
     "outputs": [],
     "prompt_number": 41
    },
    {
     "cell_type": "code",
     "collapsed": false,
     "input": [
      "# creo una lista de palabras vac\u00eda\n",
      "palabras_largas = []\n",
      "parole_lunghe = []"
     ],
     "language": "python",
     "metadata": {},
     "outputs": [],
     "prompt_number": 42
    },
    {
     "cell_type": "markdown",
     "metadata": {},
     "source": [
      "1. Recorre todos los elementos de la lista `palabras`.\n",
      "\n",
      "1. Si la palabra termina en vocal:\n",
      "    - Y si la palabra tiene como m\u00e1ximo tres caracteres de longitud, impr\u00edmela.\n",
      "    - Si no, guard\u00e1la en `palabras_largas`\n",
      "    \n",
      "2. Si la palabra no termina en vocal, impr\u00edmela en may\u00fasculas."
     ]
    },
    {
     "cell_type": "code",
     "collapsed": false,
     "input": [
      "for p in palabras:\n",
      "    if p[-1] in \"aeiou\u00e1\u00e9\u00ed\u00f3\u00fa\":\n",
      "        if len(p) <= 3:\n",
      "            print p, \n",
      "        else:\n",
      "            palabras_largas.append(p)\n",
      "    else:\n",
      "        print p.upper(), "
     ],
     "language": "python",
     "metadata": {},
     "outputs": [
      {
       "output_type": "stream",
       "stream": "stdout",
       "text": [
        "de la que EL EN Y a LOS DEL se LAS POR UN CON no una su AL lo M\u00e1S SUS le ya o s\u00ed MUY SIN TAMBI\u00e9N me HAY QUIEN NOS TODOS uno LES ni OTROS ese eso ELLOS e m\u00ed ANTES ALGUNOS UNOS yo OTRAS \u00e9L esa ESTOS QUIENES MUCHOS CUAL ESTAR ESTAS ALGUNAS NOSOTROS mi MIS t\u00fa te ti tu TUS ELLAS NOSOTRAS VOSOSTROS VOSOSTRAS OS M\u00edOS M\u00edAS TUYOS TUYAS SUYOS SUYAS NUESTROS NUESTRAS VUESTROS VUESTRAS ESOS ESAS ESTOY EST\u00e1S ESTAMOS EST\u00e1IS EST\u00e1N EST\u00e9S ESTEMOS EST\u00e9IS EST\u00e9N ESTAR\u00e1S ESTAREMOS ESTAR\u00e9IS ESTAR\u00e1N ESTAR\u00edAS ESTAR\u00edAMOS ESTAR\u00edAIS ESTAR\u00edAN ESTABAS EST\u00e1BAMOS ESTABAIS ESTABAN ESTUVIMOS ESTUVISTEIS ESTUVIERON ESTUVIERAS ESTUVI\u00e9RAMOS ESTUVIERAIS ESTUVIERAN ESTUVIESES ESTUVI\u00e9SEMOS ESTUVIESEIS ESTUVIESEN ESTADOS ESTADAS ESTAD he HAS ha HEMOS HAB\u00e9IS HAN HAYAS HAYAMOS HAY\u00e1IS HAYAN HABR\u00e1S HABREMOS HABR\u00e9IS HABR\u00e1N HABR\u00edAS HABR\u00edAMOS HABR\u00edAIS HABR\u00edAN HAB\u00edAS HAB\u00edAMOS HAB\u00edAIS HAB\u00edAN HUBIMOS HUBISTEIS HUBIERON HUBIERAS HUBI\u00e9RAMOS HUBIERAIS HUBIERAN HUBIESES HUBI\u00e9SEMOS HUBIESEIS HUBIESEN HABIDOS HABIDAS SOY ERES ES SOMOS SOIS SON sea SEAS SEAMOS SE\u00e1IS SEAN SER\u00e1S SEREMOS SER\u00e9IS SER\u00e1N SER\u00edAS SER\u00edAMOS SER\u00edAIS SER\u00edAN era ERAS \u00e9RAMOS ERAIS ERAN fui fue FUIMOS FUISTEIS FUERON FUERAS FU\u00e9RAMOS FUERAIS FUERAN FUESES FU\u00e9SEMOS FUESEIS FUESEN SENTIDOS SENTIDAS SENTID TIENES TENEMOS TEN\u00e9IS TIENEN TENGAS TENGAMOS TENG\u00e1IS TENGAN TENDR\u00e1S TENDREMOS TENDR\u00e9IS TENDR\u00e1N TENDR\u00edAS TENDR\u00edAMOS TENDR\u00edAIS TENDR\u00edAN TEN\u00edAS TEN\u00edAMOS TEN\u00edAIS TEN\u00edAN TUVIMOS TUVISTEIS TUVIERON TUVIERAS TUVI\u00e9RAMOS TUVIERAIS TUVIERAN TUVIESES TUVI\u00e9SEMOS TUVIESEIS TUVIESEN TENIDOS TENIDAS TENED\n"
       ]
      }
     ],
     "prompt_number": 38
    },
    {
     "cell_type": "code",
     "collapsed": false,
     "input": [
      "print palabras_largas\n",
      "for p in palabras_largas:\n",
      "    print p,"
     ],
     "language": "python",
     "metadata": {},
     "outputs": [
      {
       "output_type": "stream",
       "stream": "stdout",
       "text": [
        "['para', 'como', 'pero', 'este', 'porque', 'esta', 'entre', 'cuando', 'sobre', 'hasta', 'donde', 'desde', 'todo', 'durante', 'contra', 'ante', 'esto', 'qu\\xc3\\xa9', 'otro', 'otra', 'tanto', 'mucho', 'nada', 'poco', 'ella', 'algo', 'm\\xc3\\xado', 'm\\xc3\\xada', 'tuyo', 'tuya', 'suyo', 'suya', 'nuestro', 'nuestra', 'vuestro', 'vuestra', 'est\\xc3\\xa1', 'est\\xc3\\xa9', 'estar\\xc3\\xa9', 'estar\\xc3\\xa1', 'estar\\xc3\\xada', 'estaba', 'estuve', 'estuviste', 'estuvo', 'estuviera', 'estuviese', 'estando', 'estado', 'estada', 'haya', 'habr\\xc3\\xa9', 'habr\\xc3\\xa1', 'habr\\xc3\\xada', 'hab\\xc3\\xada', 'hube', 'hubiste', 'hubo', 'hubiera', 'hubiese', 'habiendo', 'habido', 'habida', 'ser\\xc3\\xa9', 'ser\\xc3\\xa1', 'ser\\xc3\\xada', 'fuiste', 'fuera', 'fuese', 'sintiendo', 'sentido', 'sentida', 'siente', 'tengo', 'tiene', 'tenga', 'tendr\\xc3\\xa9', 'tendr\\xc3\\xa1', 'tendr\\xc3\\xada', 'ten\\xc3\\xada', 'tuve', 'tuviste', 'tuvo', 'tuviera', 'tuviese', 'teniendo', 'tenido', 'tenida']\n",
        "para como pero este porque esta entre cuando sobre hasta donde desde todo durante contra ante esto qu\u00e9 otro otra tanto mucho nada poco ella algo m\u00edo m\u00eda tuyo tuya suyo suya nuestro nuestra vuestro vuestra est\u00e1 est\u00e9 estar\u00e9 estar\u00e1 estar\u00eda estaba estuve estuviste estuvo estuviera estuviese estando estado estada haya habr\u00e9 habr\u00e1 habr\u00eda hab\u00eda hube hubiste hubo hubiera hubiese habiendo habido habida ser\u00e9 ser\u00e1 ser\u00eda fuiste fuera fuese sintiendo sentido sentida siente tengo tiene tenga tendr\u00e9 tendr\u00e1 tendr\u00eda ten\u00eda tuve tuviste tuvo tuviera tuviese teniendo tenido tenida\n"
       ]
      }
     ],
     "prompt_number": 40
    },
    {
     "cell_type": "code",
     "collapsed": false,
     "input": [
      "for parola in parole:\n",
      "    if parola[-1] in \"aeiou\u00e1\u00e9\u00ed\u00f3\u00fa\u00e0\u00e8\u00ec\u00f2\u00f9\":\n",
      "        if len(parola) <= 3:\n",
      "            print parola, \n",
      "        else:\n",
      "            parole_lunghe.append(parola)\n",
      "    else:\n",
      "        print parola.upper(), \n",
      "        \n",
      "        \n",
      "print parole_lunghe"
     ],
     "language": "python",
     "metadata": {},
     "outputs": [
      {
       "output_type": "stream",
       "stream": "stdout",
       "text": [
        "AD AL ai ALL AGL CON COL coi da DAL dai DALL DAGL di DEL dei DELL DEGL IN NEL nei NELL NEGL su SUL sui SULL SUGL PER tra io tu lui lei noi voi mio mia mie tuo tua tue suo sua sue mi ti ci vi lo la li le gli ne IL UN uno una ma ED se DOV che chi cui NON si a C e i L o ho hai ha sei \u00e8 sia ero eri era fui fu fai sto sta ['allo', 'agli', 'alla', 'alle', 'dallo', 'dagli', 'dalla', 'dalle', 'dello', 'degli', 'della', 'delle', 'nello', 'negli', 'nella', 'nelle', 'sullo', 'sugli', 'sulla', 'sulle', 'contro', 'loro', 'miei', 'tuoi', 'suoi', 'nostro', 'nostra', 'nostri', 'nostre', 'vostro', 'vostra', 'vostri', 'vostre', 'perch\\xc3\\xa9', 'anche', 'come', 'dove', 'pi\\xc3\\xb9', 'quale', 'quanto', 'quanti', 'quanta', 'quante', 'quello', 'quelli', 'quella', 'quelle', 'questo', 'questi', 'questa', 'queste', 'tutto', 'tutti', 'abbiamo', 'avete', 'hanno', 'abbia', 'abbiate', 'abbiano', 'avr\\xc3\\xb2', 'avrai', 'avr\\xc3\\xa0', 'avremo', 'avrete', 'avranno', 'avrei', 'avresti', 'avrebbe', 'avremmo', 'avreste', 'avrebbero', 'avevo', 'avevi', 'aveva', 'avevamo', 'avevate', 'avevano', 'ebbi', 'avesti', 'ebbe', 'avemmo', 'aveste', 'ebbero', 'avessi', 'avesse', 'avessimo', 'avessero', 'avendo', 'avuto', 'avuta', 'avuti', 'avute', 'sono', 'siamo', 'siete', 'siate', 'siano', 'sar\\xc3\\xb2', 'sarai', 'sar\\xc3\\xa0', 'saremo', 'sarete', 'saranno', 'sarei', 'saresti', 'sarebbe', 'saremmo', 'sareste', 'sarebbero', 'eravamo', 'eravate', 'erano', 'fosti', 'fummo', 'foste', 'furono', 'fossi', 'fosse', 'fossimo', 'fossero', 'essendo', 'faccio', 'facciamo', 'fanno', 'faccia', 'facciate', 'facciano', 'far\\xc3\\xb2', 'farai', 'far\\xc3\\xa0', 'faremo', 'farete', 'faranno', 'farei', 'faresti', 'farebbe', 'faremmo', 'fareste', 'farebbero', 'facevo', 'facevi', 'faceva', 'facevamo', 'facevate', 'facevano', 'feci', 'facesti', 'fece', 'facemmo', 'faceste', 'fecero', 'facessi', 'facesse', 'facessimo', 'facessero', 'facendo', 'stai', 'stiamo', 'stanno', 'stia', 'stiate', 'stiano', 'star\\xc3\\xb2', 'starai', 'star\\xc3\\xa0', 'staremo', 'starete', 'staranno', 'starei', 'staresti', 'starebbe', 'staremmo', 'stareste', 'starebbero', 'stavo', 'stavi', 'stava', 'stavamo', 'stavate', 'stavano', 'stetti', 'stesti', 'stette', 'stemmo', 'steste', 'stettero', 'stessi', 'stesse', 'stessimo', 'stessero', 'stando', 'allo', 'agli', 'alla', 'alle', 'dallo', 'dagli', 'dalla', 'dalle', 'dello', 'degli', 'della', 'delle', 'nello', 'negli', 'nella', 'nelle', 'sullo', 'sugli', 'sulla', 'sulle', 'contro', 'loro', 'miei', 'tuoi', 'suoi', 'nostro', 'nostra', 'nostri', 'nostre', 'vostro', 'vostra', 'vostri', 'vostre', 'perch\\xc3\\xa9', 'anche', 'come', 'dove', 'pi\\xc3\\xb9', 'quale', 'quanto', 'quanti', 'quanta', 'quante', 'quello', 'quelli', 'quella', 'quelle', 'questo', 'questi', 'questa', 'queste', 'tutto', 'tutti', 'abbiamo', 'avete', 'hanno', 'abbia', 'abbiate', 'abbiano', 'avr\\xc3\\xb2', 'avrai', 'avr\\xc3\\xa0', 'avremo', 'avrete', 'avranno', 'avrei', 'avresti', 'avrebbe', 'avremmo', 'avreste', 'avrebbero', 'avevo', 'avevi', 'aveva', 'avevamo', 'avevate', 'avevano', 'ebbi', 'avesti', 'ebbe', 'avemmo', 'aveste', 'ebbero', 'avessi', 'avesse', 'avessimo', 'avessero', 'avendo', 'avuto', 'avuta', 'avuti', 'avute', 'sono', 'siamo', 'siete', 'siate', 'siano', 'sar\\xc3\\xb2', 'sarai', 'sar\\xc3\\xa0', 'saremo', 'sarete', 'saranno', 'sarei', 'saresti', 'sarebbe', 'saremmo', 'sareste', 'sarebbero', 'eravamo', 'eravate', 'erano', 'fosti', 'fummo', 'foste', 'furono', 'fossi', 'fosse', 'fossimo', 'fossero', 'essendo', 'faccio', 'facciamo', 'fanno', 'faccia', 'facciate', 'facciano', 'far\\xc3\\xb2', 'farai', 'far\\xc3\\xa0', 'faremo', 'farete', 'faranno', 'farei', 'faresti', 'farebbe', 'faremmo', 'fareste', 'farebbero', 'facevo', 'facevi', 'faceva', 'facevamo', 'facevate', 'facevano', 'feci', 'facesti', 'fece', 'facemmo', 'faceste', 'fecero', 'facessi', 'facesse', 'facessimo', 'facessero', 'facendo', 'stai', 'stiamo', 'stanno', 'stia', 'stiate', 'stiano', 'star\\xc3\\xb2', 'starai', 'star\\xc3\\xa0', 'staremo', 'starete', 'staranno', 'starei', 'staresti', 'starebbe', 'staremmo', 'stareste', 'starebbero', 'stavo', 'stavi', 'stava', 'stavamo', 'stavate', 'stavano', 'stetti', 'stesti', 'stette', 'stemmo', 'steste', 'stettero', 'stessi', 'stesse', 'stessimo', 'stessero', 'stando']\n"
       ]
      }
     ],
     "prompt_number": 44
    },
    {
     "cell_type": "code",
     "collapsed": false,
     "input": [],
     "language": "python",
     "metadata": {},
     "outputs": [
      {
       "ename": "IOError",
       "evalue": "No such file or directory: '/usr/share/nltk_data/corpora/stopwords/catalan'",
       "output_type": "pyerr",
       "traceback": [
        "\u001b[1;31m---------------------------------------------------------------------------\u001b[0m\n\u001b[1;31mIOError\u001b[0m                                   Traceback (most recent call last)",
        "\u001b[1;32m<ipython-input-31-66f4357c4f04>\u001b[0m in \u001b[0;36m<module>\u001b[1;34m()\u001b[0m\n\u001b[1;32m----> 1\u001b[1;33m \u001b[0mstopwords\u001b[0m\u001b[1;33m.\u001b[0m\u001b[0mwords\u001b[0m\u001b[1;33m(\u001b[0m\u001b[1;34m\"catalan\"\u001b[0m\u001b[1;33m)\u001b[0m\u001b[1;33m[\u001b[0m\u001b[1;33m:\u001b[0m\u001b[1;36m10\u001b[0m\u001b[1;33m]\u001b[0m\u001b[1;33m\u001b[0m\u001b[0m\n\u001b[0m",
        "\u001b[1;32m/usr/lib/python2.7/dist-packages/nltk/corpus/reader/wordlist.pyc\u001b[0m in \u001b[0;36mwords\u001b[1;34m(self, fileids)\u001b[0m\n\u001b[0;32m     18\u001b[0m     \"\"\"\n\u001b[0;32m     19\u001b[0m     \u001b[1;32mdef\u001b[0m \u001b[0mwords\u001b[0m\u001b[1;33m(\u001b[0m\u001b[0mself\u001b[0m\u001b[1;33m,\u001b[0m \u001b[0mfileids\u001b[0m\u001b[1;33m=\u001b[0m\u001b[0mNone\u001b[0m\u001b[1;33m)\u001b[0m\u001b[1;33m:\u001b[0m\u001b[1;33m\u001b[0m\u001b[0m\n\u001b[1;32m---> 20\u001b[1;33m         \u001b[1;32mreturn\u001b[0m \u001b[0mline_tokenize\u001b[0m\u001b[1;33m(\u001b[0m\u001b[0mself\u001b[0m\u001b[1;33m.\u001b[0m\u001b[0mraw\u001b[0m\u001b[1;33m(\u001b[0m\u001b[0mfileids\u001b[0m\u001b[1;33m)\u001b[0m\u001b[1;33m)\u001b[0m\u001b[1;33m\u001b[0m\u001b[0m\n\u001b[0m\u001b[0;32m     21\u001b[0m \u001b[1;33m\u001b[0m\u001b[0m\n\u001b[0;32m     22\u001b[0m     \u001b[1;32mdef\u001b[0m \u001b[0mraw\u001b[0m\u001b[1;33m(\u001b[0m\u001b[0mself\u001b[0m\u001b[1;33m,\u001b[0m \u001b[0mfileids\u001b[0m\u001b[1;33m=\u001b[0m\u001b[0mNone\u001b[0m\u001b[1;33m)\u001b[0m\u001b[1;33m:\u001b[0m\u001b[1;33m\u001b[0m\u001b[0m\n",
        "\u001b[1;32m/usr/lib/python2.7/dist-packages/nltk/corpus/reader/wordlist.pyc\u001b[0m in \u001b[0;36mraw\u001b[1;34m(self, fileids)\u001b[0m\n\u001b[0;32m     23\u001b[0m         \u001b[1;32mif\u001b[0m \u001b[0mfileids\u001b[0m \u001b[1;32mis\u001b[0m \u001b[0mNone\u001b[0m\u001b[1;33m:\u001b[0m \u001b[0mfileids\u001b[0m \u001b[1;33m=\u001b[0m \u001b[0mself\u001b[0m\u001b[1;33m.\u001b[0m\u001b[0m_fileids\u001b[0m\u001b[1;33m\u001b[0m\u001b[0m\n\u001b[0;32m     24\u001b[0m         \u001b[1;32melif\u001b[0m \u001b[0misinstance\u001b[0m\u001b[1;33m(\u001b[0m\u001b[0mfileids\u001b[0m\u001b[1;33m,\u001b[0m \u001b[0mbasestring\u001b[0m\u001b[1;33m)\u001b[0m\u001b[1;33m:\u001b[0m \u001b[0mfileids\u001b[0m \u001b[1;33m=\u001b[0m \u001b[1;33m[\u001b[0m\u001b[0mfileids\u001b[0m\u001b[1;33m]\u001b[0m\u001b[1;33m\u001b[0m\u001b[0m\n\u001b[1;32m---> 25\u001b[1;33m         \u001b[1;32mreturn\u001b[0m \u001b[0mconcat\u001b[0m\u001b[1;33m(\u001b[0m\u001b[1;33m[\u001b[0m\u001b[0mself\u001b[0m\u001b[1;33m.\u001b[0m\u001b[0mopen\u001b[0m\u001b[1;33m(\u001b[0m\u001b[0mf\u001b[0m\u001b[1;33m)\u001b[0m\u001b[1;33m.\u001b[0m\u001b[0mread\u001b[0m\u001b[1;33m(\u001b[0m\u001b[1;33m)\u001b[0m \u001b[1;32mfor\u001b[0m \u001b[0mf\u001b[0m \u001b[1;32min\u001b[0m \u001b[0mfileids\u001b[0m\u001b[1;33m]\u001b[0m\u001b[1;33m)\u001b[0m\u001b[1;33m\u001b[0m\u001b[0m\n\u001b[0m\u001b[0;32m     26\u001b[0m \u001b[1;33m\u001b[0m\u001b[0m\n\u001b[0;32m     27\u001b[0m     \u001b[1;31m#{ Deprecated since 0.8\u001b[0m\u001b[1;33m\u001b[0m\u001b[1;33m\u001b[0m\u001b[0m\n",
        "\u001b[1;32m/usr/lib/python2.7/dist-packages/nltk/corpus/reader/api.pyc\u001b[0m in \u001b[0;36mopen\u001b[1;34m(self, file, sourced)\u001b[0m\n\u001b[0;32m    191\u001b[0m         \"\"\"\n\u001b[0;32m    192\u001b[0m         \u001b[0mencoding\u001b[0m \u001b[1;33m=\u001b[0m \u001b[0mself\u001b[0m\u001b[1;33m.\u001b[0m\u001b[0mencoding\u001b[0m\u001b[1;33m(\u001b[0m\u001b[0mfile\u001b[0m\u001b[1;33m)\u001b[0m\u001b[1;33m\u001b[0m\u001b[0m\n\u001b[1;32m--> 193\u001b[1;33m         \u001b[0mstream\u001b[0m \u001b[1;33m=\u001b[0m \u001b[0mself\u001b[0m\u001b[1;33m.\u001b[0m\u001b[0m_root\u001b[0m\u001b[1;33m.\u001b[0m\u001b[0mjoin\u001b[0m\u001b[1;33m(\u001b[0m\u001b[0mfile\u001b[0m\u001b[1;33m)\u001b[0m\u001b[1;33m.\u001b[0m\u001b[0mopen\u001b[0m\u001b[1;33m(\u001b[0m\u001b[0mencoding\u001b[0m\u001b[1;33m)\u001b[0m\u001b[1;33m\u001b[0m\u001b[0m\n\u001b[0m\u001b[0;32m    194\u001b[0m         \u001b[1;32mif\u001b[0m \u001b[0msourced\u001b[0m\u001b[1;33m:\u001b[0m\u001b[1;33m\u001b[0m\u001b[0m\n\u001b[0;32m    195\u001b[0m             \u001b[0mstream\u001b[0m \u001b[1;33m=\u001b[0m \u001b[0mSourcedStringStream\u001b[0m\u001b[1;33m(\u001b[0m\u001b[0mstream\u001b[0m\u001b[1;33m,\u001b[0m \u001b[0mfile\u001b[0m\u001b[1;33m)\u001b[0m\u001b[1;33m\u001b[0m\u001b[0m\n",
        "\u001b[1;32m/usr/lib/python2.7/dist-packages/nltk/data.pyc\u001b[0m in \u001b[0;36mjoin\u001b[1;34m(self, fileid)\u001b[0m\n\u001b[0;32m    173\u001b[0m     \u001b[1;32mdef\u001b[0m \u001b[0mjoin\u001b[0m\u001b[1;33m(\u001b[0m\u001b[0mself\u001b[0m\u001b[1;33m,\u001b[0m \u001b[0mfileid\u001b[0m\u001b[1;33m)\u001b[0m\u001b[1;33m:\u001b[0m\u001b[1;33m\u001b[0m\u001b[0m\n\u001b[0;32m    174\u001b[0m         \u001b[0mpath\u001b[0m \u001b[1;33m=\u001b[0m \u001b[0mos\u001b[0m\u001b[1;33m.\u001b[0m\u001b[0mpath\u001b[0m\u001b[1;33m.\u001b[0m\u001b[0mjoin\u001b[0m\u001b[1;33m(\u001b[0m\u001b[0mself\u001b[0m\u001b[1;33m.\u001b[0m\u001b[0m_path\u001b[0m\u001b[1;33m,\u001b[0m \u001b[1;33m*\u001b[0m\u001b[0mfileid\u001b[0m\u001b[1;33m.\u001b[0m\u001b[0msplit\u001b[0m\u001b[1;33m(\u001b[0m\u001b[1;34m'/'\u001b[0m\u001b[1;33m)\u001b[0m\u001b[1;33m)\u001b[0m\u001b[1;33m\u001b[0m\u001b[0m\n\u001b[1;32m--> 175\u001b[1;33m         \u001b[1;32mreturn\u001b[0m \u001b[0mFileSystemPathPointer\u001b[0m\u001b[1;33m(\u001b[0m\u001b[0mpath\u001b[0m\u001b[1;33m)\u001b[0m\u001b[1;33m\u001b[0m\u001b[0m\n\u001b[0m\u001b[0;32m    176\u001b[0m \u001b[1;33m\u001b[0m\u001b[0m\n\u001b[0;32m    177\u001b[0m     \u001b[1;32mdef\u001b[0m \u001b[0m__repr__\u001b[0m\u001b[1;33m(\u001b[0m\u001b[0mself\u001b[0m\u001b[1;33m)\u001b[0m\u001b[1;33m:\u001b[0m\u001b[1;33m\u001b[0m\u001b[0m\n",
        "\u001b[1;32m/usr/lib/python2.7/dist-packages/nltk/data.pyc\u001b[0m in \u001b[0;36m__init__\u001b[1;34m(self, path)\u001b[0m\n\u001b[0;32m    153\u001b[0m         \u001b[0mpath\u001b[0m \u001b[1;33m=\u001b[0m \u001b[0mos\u001b[0m\u001b[1;33m.\u001b[0m\u001b[0mpath\u001b[0m\u001b[1;33m.\u001b[0m\u001b[0mabspath\u001b[0m\u001b[1;33m(\u001b[0m\u001b[0mpath\u001b[0m\u001b[1;33m)\u001b[0m\u001b[1;33m\u001b[0m\u001b[0m\n\u001b[0;32m    154\u001b[0m         \u001b[1;32mif\u001b[0m \u001b[1;32mnot\u001b[0m \u001b[0mos\u001b[0m\u001b[1;33m.\u001b[0m\u001b[0mpath\u001b[0m\u001b[1;33m.\u001b[0m\u001b[0mexists\u001b[0m\u001b[1;33m(\u001b[0m\u001b[0mpath\u001b[0m\u001b[1;33m)\u001b[0m\u001b[1;33m:\u001b[0m\u001b[1;33m\u001b[0m\u001b[0m\n\u001b[1;32m--> 155\u001b[1;33m             \u001b[1;32mraise\u001b[0m \u001b[0mIOError\u001b[0m\u001b[1;33m(\u001b[0m\u001b[1;34m'No such file or directory: %r'\u001b[0m \u001b[1;33m%\u001b[0m \u001b[0mpath\u001b[0m\u001b[1;33m)\u001b[0m\u001b[1;33m\u001b[0m\u001b[0m\n\u001b[0m\u001b[0;32m    156\u001b[0m         \u001b[0mself\u001b[0m\u001b[1;33m.\u001b[0m\u001b[0m_path\u001b[0m \u001b[1;33m=\u001b[0m \u001b[0mpath\u001b[0m\u001b[1;33m\u001b[0m\u001b[0m\n\u001b[0;32m    157\u001b[0m \u001b[1;33m\u001b[0m\u001b[0m\n",
        "\u001b[1;31mIOError\u001b[0m: No such file or directory: '/usr/share/nltk_data/corpora/stopwords/catalan'"
       ]
      }
     ],
     "prompt_number": 31
    },
    {
     "cell_type": "code",
     "collapsed": false,
     "input": [],
     "language": "python",
     "metadata": {},
     "outputs": [
      {
       "metadata": {},
       "output_type": "pyout",
       "prompt_number": 22,
       "text": [
        "['i', 'me', 'my', 'myself', 'we', 'our', 'ours', 'ourselves', 'you', 'your']"
       ]
      }
     ],
     "prompt_number": 22
    },
    {
     "cell_type": "code",
     "collapsed": false,
     "input": [],
     "language": "python",
     "metadata": {},
     "outputs": []
    }
   ],
   "metadata": {}
  }
 ]
}