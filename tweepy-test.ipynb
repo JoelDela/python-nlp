{
 "metadata": {
  "name": "",
  "signature": "sha256:cd592be5f7b6aa9c0a9e0e50e570236eb0915f826e49e3898625b23b98fe2129"
 },
 "nbformat": 3,
 "nbformat_minor": 0,
 "worksheets": [
  {
   "cells": [
    {
     "cell_type": "markdown",
     "metadata": {},
     "source": [
      "# Pr\u00e1ctica 8\n",
      "\n",
      "## Introducci\u00f3n\n",
      "\n",
      "En este \u00faltima pr\u00e1ctica tendr\u00e1s que crear un [*bot* de twitter](http://en.wikipedia.org/wiki/Twitterbot) (un pograma que interact\u00faa de manera semi-autom\u00e1tica con twitter) que muestre ciertas capacidades ling\u00fc\u00edsticas.\n",
      "\n",
      "Esta pr\u00e1ctica es diferente de las anteriores en el sentido de que es bastante abierta. Tendr\u00e1s que demostrar que eres capaz de programar en Python funcionalidades m\u00e1s o menos complejas, combinando las herramientas anteriores vistas en clase de manera creativa. \n",
      "\n",
      "A continuaci\u00f3n ver\u00e1s *snippets* o ejemplos de c\u00f3digo mostrando las instrucciones m\u00ednimas que deber\u00e1 incluir tu *bot* para que sea capaz de publicar mensajes. Tambi\u00e9n tratar\u00e9 de mostrar c\u00f3mo acceder a otras funcionalidades, por si te animas a hacer cosas m\u00e1s complejas. Ojo, tendr\u00e1s que adaptar parte de este c\u00f3digo para que tu *bot* funcione.\n",
      "\n",
      "## Cuenta de desarrollador en twitter\n",
      "\n",
      "Para poder crear un *bot* y, en general, cualquier aplicaci\u00f3n que interact\u00fae con twitter, necesitas tener una cuenta con permisos de desarrollador. Sigue los pasos:\n",
      "\n",
      "1. Lo primero que tienes que hacer, si no tienes cuenta en twitter, es [registrarte](https://twitter.com/signup). Si ya tienes cuenta en esta red, te recomiendo que la uses y no te crees otra nueva. El proceso de alta de twitter requiere la validaci\u00f3n de un n\u00famero de tel\u00e9fono m\u00f3vil \u00fanico para cada cuenta. As\u00ed que, si no tienes m\u00e1s de un n\u00famero de m\u00f3vil y no quieres dolores de cabeza, utiliza tu cuenta de todos los d\u00edas.\n",
      "\n",
      "2. Entra en [la p\u00e1gina de gesti\u00f3n de apps de twitter](https://apps.twitter.com) y solicita permisos para una *app* nueva. Pincha en [*Create New App*](https://apps.twitter.com/app/new).\n",
      "\n",
      "3. Rellena los campos requeridos del formulario que se muestra: \n",
      "\n",
      "    - **Name**: tiene que ser un nombre \u00fanico, as\u00ed que no lo llames *prueba*. Es probable que tengas que probar varios nombres hasta dar con uno que est\u00e9 libre. Si no quieres fallar, pon algo como *progplnbot-tunombre*.\n",
      "        \n",
      "    - **Description**: describe brevemente el prop\u00f3sito de tu bot.\n",
      "        \n",
      "    - **Website**: si no tienes web propia y no sabes qu\u00e9 poner, introduce la URL de la web de Ling\u00fc\u00edstica: http://www.ucm.es/linguistica\n",
      "        \n",
      "4. Lee (cough, cough) el texto del acuerdo, selecciona *Yes, I agree* y pincha el bot\u00f3n de la parte inferior de la p\u00e1gina que dice *Create your Twitter application*.\n",
      "\n",
      "5. Si todo ha ido bien (si has elegido para tu *app* un nombre que estuviera libre, b\u00e1sicamente), se te mostrar\u00e1 una p\u00e1gina de configuraci\u00f3n. Tendr\u00e1s que cambiar algunos par\u00e1metros. \n",
      "\n",
      "    - En el apartado *Application Settings*, en *Access level*, pincha en *modify app permissions* y otorga permisos de lectura y escritura: selecciona la opci\u00f3n *Read and Write*. Una vez cambiado, pincha en *Update Settings*.\n",
      "        \n",
      "    - En la pesta\u00f1a *Keys and Access Tokens*, pincha en el bot\u00f3n *Create my access token* para crear los tokens de acceso. Estos nombres probablemente no te digan nada, pero desde esta p\u00e1gina tienes acceso a las cuatro claves que tu *bot* necesita para autenticarse y publicar mensajes. Toma nota de ellos, los necesitar\u00e1s m\u00e1s adelante:\n",
      "    - *Consumer key*\n",
      "    - *Consumer secret*\n",
      "    - *Access token*\n",
      "    - *Access token secret*\n",
      "    \n",
      "Ya tienes todo lo que necesitas para crear tu *bot*.\n",
      "\n",
      "\n",
      "## Ejemplo m\u00ednimo de *bot* con Python y `tweepy`.\n",
      "       "
     ]
    },
    {
     "cell_type": "code",
     "collapsed": false,
     "input": [
      "import tweepy, time, sys\n",
      "#argfile = str(sys.argv[1])"
     ],
     "language": "python",
     "metadata": {},
     "outputs": [],
     "prompt_number": 2
    },
    {
     "cell_type": "code",
     "collapsed": false,
     "input": [
      "# enter the corresponding information from your Twitter application:\n",
      "CONSUMER_KEY = 'IKg1b4SlfpT27yX01u5rkO8ix'\n",
      "CONSUMER_SECRET = '6h7CL9qwaV48T4dVjtlCU2XccYg54SdWhL8jjPgqRCqKrnJG9q'\n",
      "ACCESS_KEY = '24897144-Fl3FHZxirAImirDYlhoasFEyACZ9MgGuG6zUEICmQ'\n",
      "ACCESS_SECRET = 'PfY6rUmTzsIeQBIq5zQcOKbKCk9tyitbO2032gD9aeBg8'\n",
      "\n",
      "auth = tweepy.OAuthHandler(CONSUMER_KEY, CONSUMER_SECRET)\n",
      "auth.set_access_token(ACCESS_KEY, ACCESS_SECRET)\n",
      "api = tweepy.API(auth)"
     ],
     "language": "python",
     "metadata": {},
     "outputs": [],
     "prompt_number": 3
    },
    {
     "cell_type": "code",
     "collapsed": false,
     "input": [
      "filename=open(\"mensajes.txt\",'r')\n",
      "f=filename.readlines()\n",
      "filename.close()\n",
      " \n",
      "for line in f:\n",
      "    api.update_status(line)\n",
      "    time.sleep(120) #Tweet every 15 minutes"
     ],
     "language": "python",
     "metadata": {},
     "outputs": [
      {
       "ename": "TweepError",
       "evalue": "[{u'message': u'Missing required parameter: status.', u'code': 170}]",
       "output_type": "pyerr",
       "traceback": [
        "\u001b[1;31m---------------------------------------------------------------------------\u001b[0m\n\u001b[1;31mTweepError\u001b[0m                                Traceback (most recent call last)",
        "\u001b[1;32m<ipython-input-4-208e26f38181>\u001b[0m in \u001b[0;36m<module>\u001b[1;34m()\u001b[0m\n\u001b[0;32m      4\u001b[0m \u001b[1;33m\u001b[0m\u001b[0m\n\u001b[0;32m      5\u001b[0m \u001b[1;32mfor\u001b[0m \u001b[0mline\u001b[0m \u001b[1;32min\u001b[0m \u001b[0mf\u001b[0m\u001b[1;33m:\u001b[0m\u001b[1;33m\u001b[0m\u001b[0m\n\u001b[1;32m----> 6\u001b[1;33m     \u001b[0mapi\u001b[0m\u001b[1;33m.\u001b[0m\u001b[0mupdate_status\u001b[0m\u001b[1;33m(\u001b[0m\u001b[0mline\u001b[0m\u001b[1;33m)\u001b[0m\u001b[1;33m\u001b[0m\u001b[0m\n\u001b[0m\u001b[0;32m      7\u001b[0m     \u001b[0mtime\u001b[0m\u001b[1;33m.\u001b[0m\u001b[0msleep\u001b[0m\u001b[1;33m(\u001b[0m\u001b[1;36m120\u001b[0m\u001b[1;33m)\u001b[0m \u001b[1;31m#Tweet every 15 minutes\u001b[0m\u001b[1;33m\u001b[0m\u001b[0m\n",
        "\u001b[1;32m/usr/local/lib/python2.7/dist-packages/tweepy/binder.pyc\u001b[0m in \u001b[0;36m_call\u001b[1;34m(*args, **kwargs)\u001b[0m\n\u001b[0;32m    233\u001b[0m             \u001b[1;32mreturn\u001b[0m \u001b[0mmethod\u001b[0m\u001b[1;33m\u001b[0m\u001b[0m\n\u001b[0;32m    234\u001b[0m         \u001b[1;32melse\u001b[0m\u001b[1;33m:\u001b[0m\u001b[1;33m\u001b[0m\u001b[0m\n\u001b[1;32m--> 235\u001b[1;33m             \u001b[1;32mreturn\u001b[0m \u001b[0mmethod\u001b[0m\u001b[1;33m.\u001b[0m\u001b[0mexecute\u001b[0m\u001b[1;33m(\u001b[0m\u001b[1;33m)\u001b[0m\u001b[1;33m\u001b[0m\u001b[0m\n\u001b[0m\u001b[0;32m    236\u001b[0m \u001b[1;33m\u001b[0m\u001b[0m\n\u001b[0;32m    237\u001b[0m     \u001b[1;31m# Set pagination mode\u001b[0m\u001b[1;33m\u001b[0m\u001b[1;33m\u001b[0m\u001b[0m\n",
        "\u001b[1;32m/usr/local/lib/python2.7/dist-packages/tweepy/binder.pyc\u001b[0m in \u001b[0;36mexecute\u001b[1;34m(self)\u001b[0m\n\u001b[0;32m    217\u001b[0m                 \u001b[1;32mexcept\u001b[0m \u001b[0mException\u001b[0m\u001b[1;33m:\u001b[0m\u001b[1;33m\u001b[0m\u001b[0m\n\u001b[0;32m    218\u001b[0m                     \u001b[0merror_msg\u001b[0m \u001b[1;33m=\u001b[0m \u001b[1;34m\"Twitter error response: status code = %s\"\u001b[0m \u001b[1;33m%\u001b[0m \u001b[0mresp\u001b[0m\u001b[1;33m.\u001b[0m\u001b[0mstatus_code\u001b[0m\u001b[1;33m\u001b[0m\u001b[0m\n\u001b[1;32m--> 219\u001b[1;33m                 \u001b[1;32mraise\u001b[0m \u001b[0mTweepError\u001b[0m\u001b[1;33m(\u001b[0m\u001b[0merror_msg\u001b[0m\u001b[1;33m,\u001b[0m \u001b[0mresp\u001b[0m\u001b[1;33m)\u001b[0m\u001b[1;33m\u001b[0m\u001b[0m\n\u001b[0m\u001b[0;32m    220\u001b[0m \u001b[1;33m\u001b[0m\u001b[0m\n\u001b[0;32m    221\u001b[0m             \u001b[1;31m# Parse the response payload\u001b[0m\u001b[1;33m\u001b[0m\u001b[1;33m\u001b[0m\u001b[0m\n",
        "\u001b[1;31mTweepError\u001b[0m: [{u'message': u'Missing required parameter: status.', u'code': 170}]"
       ]
      }
     ],
     "prompt_number": 4
    }
   ],
   "metadata": {}
  }
 ]
}