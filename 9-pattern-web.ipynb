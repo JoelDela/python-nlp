{
 "metadata": {
  "name": "",
  "signature": "sha256:55753387c0745fb06d744f73917b8cc99c4f1bb34d80e395efdc8c26c61a42a6"
 },
 "nbformat": 3,
 "nbformat_minor": 0,
 "worksheets": [
  {
   "cells": [
    {
     "cell_type": "markdown",
     "metadata": {},
     "source": [
      "# `pattern.web`: m\u00f3dulo para interactuar con buscadores y redes sociales\n",
      "\n",
      "[pattern](http://www.clips.ua.ac.be/pages/pattern) es otro conjunto de herramientas (librer\u00eda) muy interesante para realizar procesamiento del lenguaje con Python. En esta presentaci\u00f3n voy a centrarme en algunas de sus funcionalidades que tienen el m\u00f3dulo [`pattern.web`](http://www.clips.ua.ac.be/pages/pattern-web).\n",
      "\n",
      "`pattern.web` integra varias herramientas para realizar miner\u00eda de datos en la web (*online data mining*). Lo que m\u00e1s nos puede interesar es c\u00f3mo interactuar con buscadores web: es decir, c\u00f3mo usar Google, Bing, Yahoo, Twitter, Wikipedia, Flickr, etc. y como usar redes sociales como Facebook y Twitter desde Python.\n",
      "\n",
      "Lo primero que necesitamos hacer es importar [las herramientas del m\u00f3dulo `pattern.web`](http://www.clips.ua.ac.be/pages/pattern-web#services) que vamos a usar."
     ]
    },
    {
     "cell_type": "code",
     "collapsed": false,
     "input": [
      "from pattern.web import Google, Bing, Wikipedia, Wiktionary, Twitter, Facebook, plaintext\n",
      "import time"
     ],
     "language": "python",
     "metadata": {},
     "outputs": [],
     "prompt_number": 1
    },
    {
     "cell_type": "markdown",
     "metadata": {},
     "source": [
      "## Interactuar con buscadores\n",
      "\n",
      "Podemos usar `pattern.web` para interactuar directamente con algunos buscadores web. \n",
      "\n",
      "Todos funcionan de manera similar: creamos un tipo de objeto diferente para cada buscador y podemos realizar b\u00fasquedas (con distintas opciones) a trav\u00e9s de un m\u00e9todo llamado `.search()`. Dicho m\u00e9todo nos permite lanzar una busqueda, especificada como una cadena de texto y recuperar una *lista de resultados* sobre la que podemos iterar para acceder al t\u00edtulo, la URL, el resumen de la web de destino, etc.\n",
      "\n",
      "Veamos algunos ejemplos."
     ]
    },
    {
     "cell_type": "code",
     "collapsed": false,
     "input": [
      "# buscamos con Google Search\n",
      "google = Google(license=None, language=None) # no especificamos idioma de b\u00fasqueda\n",
      "resultados = google.search(\"universidad complutense\") \n",
      "for resultado in resultados:\n",
      "    print resultado.title, \"->\", resultado.url\n",
      "    print plaintext(resultado.text), \"\\n\""
     ],
     "language": "python",
     "metadata": {},
     "outputs": [
      {
       "output_type": "stream",
       "stream": "stdout",
       "text": [
        "Universidad Complutense de Madrid: UCM -> http://www.ucm.es/\n",
        "La Universidad Complutense de Madrid es una instituci\u00f3n de larga trayectoria y\n",
        "amplio reconocimiento social que aspira a situarse entre las primeras ... \n",
        "\n",
        "Complutense University of Madrid -> https://www.ucm.es/english\n",
        "Universidad Complutense de Madrid Complutense University of Madrid. Enter\n",
        "search ... Complutense works with over 934 Institutions in 77 countries. Find out ... \n",
        "\n",
        "Complutense University of Madrid - Wikipedia, the free encyclopedia -> http://en.wikipedia.org/wiki/Complutense_University_of_Madrid\n",
        "The Complutense University of Madrid (Spanish: Universidad Complutense de\n",
        "Madrid or Universidad de Madrid, Latin: Universitas Complutensis) is a public ... \n",
        "\n",
        "Estudios Ofertados -> https://www.ucm.es/estudios-ofertados\n",
        "La Universidad Complutense de Madrid es una instituci\u00f3n de larga trayectoria y\n",
        "amplio reconocimiento social que aspira a situarse entre las primeras ... \n",
        "\n",
        "Universidad Complutense de Madrid - Wikipedia, la enciclopedia libre -> http://es.wikipedia.org/wiki/Universidad_Complutense_de_Madrid\n",
        "La Universidad Complutense de Madrid (UCM), tradicionalmente denominada\n",
        "Universidad de Madrid y conocida de forma oficiosa como \u00abla Complutense\u00bb o ... \n",
        "\n",
        "University Complutense Madrid | Top Universities -> http://www.topuniversities.com/universities/university-complutense-madrid/undergrad\n",
        "The Complutense University of Madrid, in Spanish Universidad Complutense de\n",
        "Madrid, is a prestigious Spanish university, located in Madrid. Its origins lie in ... \n",
        "\n",
        "Biblioteca Complutense. Universidad Complutense de Madrid -> http://biblioteca.ucm.es/\n",
        "La Universidad Complutense de Madrid es una instituci\u00f3n de larga trayectoria y\n",
        "amplio reconocimiento social que aspira a situarse entre las primeras ... \n",
        "\n",
        "Universidad Complutense de Madrid -> http://www.isep.org/students/Directory/member_site.asp?CSID=218&ID=22\n",
        "With history dating back to the 13th century, Universidad Complutense de Madrid\n",
        "is one of the oldest and best known universities in the world. UCM is ... \n",
        "\n",
        "Universidad Complutense de Madrid | Facebook -> https://es-es.facebook.com/UniComplutense\n",
        "Universidad Complutense de Madrid, Madrid. 35 391 Me gusta \u00b7 972 personas\n",
        "est\u00e1n hablando de esto. Perfil oficial de la Universidad Complutense de Madrid,. \n",
        "\n",
        "Facultad de Farmacia. Universidad Complutense de Madrid -> http://farmacia.ucm.es/\n",
        "La Universidad Complutense de Madrid es una instituci\u00f3n de larga trayectoria y\n",
        "amplio reconocimiento social que aspira a situarse entre las primeras ... \n",
        "\n"
       ]
      }
     ],
     "prompt_number": 2
    },
    {
     "cell_type": "code",
     "collapsed": false,
     "input": [
      "# buscamos con Google Search, esta vez restringiendo la b\u00fasqueda a webs en espa\u00f1ol\n",
      "google_es = Google(license=None, language=\"es\")\n",
      "resultados = google_es.search(\"ucm\")\n",
      "for resultado in resultados:\n",
      "    print resultado.title, \"->\", resultado.url\n",
      "    print plaintext(resultado.text), \"\\n\""
     ],
     "language": "python",
     "metadata": {},
     "outputs": [
      {
       "output_type": "stream",
       "stream": "stdout",
       "text": [
        "Universidad Complutense de Madrid: UCM -> http://www.ucm.es/\n",
        "La Universidad Complutense de Madrid es una instituci\u00f3n de larga trayectoria y\n",
        "amplio reconocimiento social que aspira a situarse entre las primeras ... \n",
        "\n",
        "Campus Virtual. Universidad Complutense de Madrid -> https://www.ucm.es/campusvirtual\n",
        "Ayuda \u00b7 Preguntas m\u00e1s frecuentes (FAQ) \u00b7 Paseo Virtual en Sakai \u00b7 Video-\n",
        "Tutoriales \u00b7 Protocolo derechos de autor \u00b7 Participa \u00b7 Jornadas CV-UCM \u00b7\n",
        "Contacta. \n",
        "\n",
        "UCM online -> http://www.ucm.es/ucm-en-linea\n",
        "La Universidad Complutense de Madrid es una instituci\u00f3n de larga trayectoria y\n",
        "amplio reconocimiento social que aspira a situarse entre las primeras ... \n",
        "\n",
        "Universidad Cat\u00f3lica del Maule | UCM Talca | Carreras acreditadas ... -> http://www.ucm.cl/\n",
        "La carrera de la U. Cat\u00f3lica del Maule fue acreditada por la agencia Qualitas por\n",
        "el m\u00e1ximo de tiempo[Leer m\u00e1s] \u00b7 Sextas Olimpiadas Especiales se anotaron ... \n",
        "\n",
        "Biblioteca Complutense. Universidad Complutense de Madrid -> http://biblioteca.ucm.es/\n",
        "La Universidad Complutense de Madrid es una instituci\u00f3n de larga trayectoria y\n",
        "amplio reconocimiento social que aspira a situarse entre las primeras ... \n",
        "\n",
        "Universidad Cat\u00f3lica del Maule | UCM Talca | Carreras acreditadas ... -> http://www.ucm.cl/alumnos.html\n",
        "\u00bfC\u00f3mo acceder al Cr\u00e9dito con Garant\u00eda Estatal? 05/12/2014. Inf\u00f3rmate sobre\n",
        "c\u00f3mo postular y activar el Cr\u00e9dito con Garant\u00eda Estatal (CAE), ayuda estudiantil ... \n",
        "\n",
        "UCM -> http://www.ucm.com.uy/\n",
        "Planes ucm es un nuevo concepto integral de asistencia m\u00e9dica que pretende\n",
        "adecuar nuestra tradicional oferta comercial de producto a un esquema mas ... \n",
        "\n",
        "UCM Virtual: Entrar al sitio -> http://www.ucm.cl/ucm-virtual.html\n",
        "Para acceder a la UCM Virtual debe ingresar: Nombre de Usuario: RUT, sin\n",
        "gui\u00f3n, sin puntos ni d\u00edgito verificador. Contrase\u00f1a: clave de SIMBAD (profesores) \n",
        "\n",
        "Cisne. Cat\u00e1logo de la Biblioteca de la Universidad ... - Madrid -> http://cisne.sim.ucm.es/\n",
        "Cat\u00e1logo colectivo de la Universidad Complutense de Madrid. Permite\n",
        "b\u00fasquedas integradas y selectivas en las bibliotecas de la Universidad. \n",
        "\n",
        "Gesti\u00f3n Integral de Pr\u00e1cticas Externas - GIPE - Madrid -> https://gipe.ucm.es/\n",
        "Logotipo de la UCM, pulse para acceder a la p\u00e1gina principal. Zona de ...\n",
        "Ejemplo de Nombre de usuario: nombredecuenta@estumail.ucm.es. Sitio web\n",
        "para ... \n",
        "\n"
       ]
      }
     ],
     "prompt_number": 3
    },
    {
     "cell_type": "code",
     "collapsed": false,
     "input": [
      "# la funci\u00f3n plaintext \"limpia\" el c\u00f3digo HTML\n",
      "print plaintext(\"<p>Hola, terricola. Esto es un <a href='http://www.hola.com'>enlace</a>.</p>\")"
     ],
     "language": "python",
     "metadata": {},
     "outputs": [
      {
       "output_type": "stream",
       "stream": "stdout",
       "text": [
        "Hola, terricola. Esto es un enlace.\n"
       ]
      }
     ],
     "prompt_number": 4
    },
    {
     "cell_type": "code",
     "collapsed": false,
     "input": [
      "# buscamos con Bing\n",
      "bing = Bing(license=None, language=\"es\")\n",
      "resultados = bing.search(\"ucm\", start=1, count=5)\n",
      "for resultado in resultados:\n",
      "    print resultado.title, \"->\", resultado.url\n",
      "    print plaintext(resultado.text), \"\\n\"\n",
      "    "
     ],
     "language": "python",
     "metadata": {},
     "outputs": [
      {
       "output_type": "stream",
       "stream": "stdout",
       "text": [
        "filologia.ucm.es/ - Facultad de Filolog\u00eda. Universidad ... -> http://filologia.ucm.es/\n",
        "La Universidad Complutense de Madrid es una instituci\u00f3n de larga trayectoria y amplio reconocimiento social que aspira a situarse entre las primeras universidades de ... \n",
        "\n",
        "Facultad de Farmacia. Universidad Complutense de Madrid -> http://farmacia.ucm.es/\n",
        "La Universidad Complutense de Madrid es una instituci\u00f3n de larga trayectoria y amplio reconocimiento social que aspira a situarse entre las primeras universidades de ... \n",
        "\n",
        "Biblioteca Complutense. Universidad Complutense de Madrid -> http://biblioteca.ucm.es/\n",
        "La Universidad Complutense de Madrid es una instituci\u00f3n de larga trayectoria y amplio reconocimiento social que aspira a situarse entre las primeras universidades de ... \n",
        "\n",
        "www.ucm.es -> https://www.ucm.es/%e2%80%8e\n",
        "www.ucm.es \n",
        "\n",
        "UCM \u2013 Universidad Cat\u00f3lica de Manizales -> http://www.ucm.edu.co/\n",
        "Art\u00edculos cient\u00edficos UCM de alto nivel; En junio de 2014 la revista Universidad y Salud, public\u00f3 dos art\u00edculos acad\u00e9micos de las docentes investigadoras del ... \n",
        "\n"
       ]
      }
     ],
     "prompt_number": 5
    },
    {
     "cell_type": "code",
     "collapsed": false,
     "input": [
      "# buscamos en las noticias de Bing\n",
      "resultados = bing.search(\"ucm\", type=\"news\", language=\"es\")\n",
      "for resultado in resultados:\n",
      "    print resultado.title, \"->\", resultado.url\n",
      "    print plaintext(resultado.text), \"\\n\""
     ],
     "language": "python",
     "metadata": {},
     "outputs": [
      {
       "output_type": "stream",
       "stream": "stdout",
       "text": [
        "UCM\u2019s potential grows with new Vice President -> http://chimes.biola.edu/story/2014/dec/09/ucms-potential-grows-new-vice-president/\n",
        "After months of extensive searching, Biola\u2019s Communication and Marketing department hired Lee Wilhite as its new vice president. Wilhite expects to take UCM to a higher level after starting his new position on Dec. 1, 2014. The search for the position ... \n",
        "\n",
        "UCM selects alumnus as keynote speaker -> http://www.dailystarjournal.com/people/community/article_cef0d7e5-437a-5c2f-83ca-b374bd0fa9e0.html\n",
        "Warrensburg \u2013 University of Central Missouri alumnus Lucas Boyce, director of business development and legislative affairs for the Orlando Magic, will be the keynote speaker for the annual Freedom Scholarship Dinner at 6:30 p.m., Tuesday, Jan. 20, 2015 ... \n",
        "\n",
        "Storm falls to UCM in Live United Bowl -> http://durantdemocrat.com/news/sports/150793466/Storm-falls-to-UCM-in-Live-United-Bowl\n",
        "TEXARKANA, Ark. - Southeastern\u2019s Ryan Polite posted 307 yards of total offense and scored three touchdowns, but it was not enough to offset Central Missouri\u2019s 345 rushing yards as the Savage Storm fell to the Mules 48-21 in the Live United Texarkana ... \n",
        "\n",
        "Blackout the Coliseum planned for Thursday night as Tigers host nationally ranked UCM teams -> http://tmn.fhsu.edu/?p=17243\n",
        "Tiger fans are encouraged to \u2018Blackout the Coliseum\u2019 on Thursday night as Fort Hays State hosts Central Missouri in the MIAA openers for both women\u2019s and men\u2019s basketball. Both Central Missouri teams are nationally ranked, the women at No. 21 and ... \n",
        "\n",
        "UCM Cruises To 77-62 Win Over Tabor -> http://missourisportsredux.com/ucm-cruises-to-77-62-win-over-tabor/\n",
        "WARRENSBURG, MO (Missouri Sports Redux) \u2013 The 10th-ranked Mules used a 24-6 run to open the second half and pull away from Tabor for a 77-62 win on Sunday afternoon at the UCM Multipurpose Building. The Mules led 42-32 at halftime before the big run to ... \n",
        "\n",
        "Fast start lifts UCM -> http://www.sedaliademocrat.com/news/localsports-localsports1-localsports2-sports/50827922/Fast-start-lifts-UCM\n",
        "Central Missouri beat Alderson Broaddus 73-62 on Monday behind 17 points from Preston Brunz. The Mules opened up a lead with a 17-0 first half run and a 10-2 run late in the half helped the Mules to a 38-25 halftime edge but the visitors came back. \n",
        "\n",
        "Hermann grad Winkelman a 2-sport athlete at UCM -> http://www.hermannadvertisercourier.com/?p=12114\n",
        "In her first year as a two-sport athlete at the collegiate level, Shelby Winkelmann continues to play at a high level. Four days after her University of Central Missouri volleyball team lost in the NCAA regional tournament at Duluth, Minn., she joined the ... \n",
        "\n",
        "Tiger fans encouraged to wear black for tonight\u2019s MIAA opener with Central Missouri -> http://www.hayspost.com/2014/12/04/tiger-fans-encouraged-to-wear-black-for-tonights-miaa-opener-with-central-missouri/\n",
        "Both the FHSU women and men own three-game win streaks over Central Missouri in Hays, with the 2009-10 season the last time both lost at home to UCM. The FHSU women won the last meeting in Hays in convincing fashion, 95-50 in 2012-13, when FHSU was ranked ... \n",
        "\n",
        "Ultrafast complex molecular simulations by 'cutting up molecules' -> http://www.eurekalert.org/pub_releases/2014-12/iotb-ucm120414.php\n",
        "Nagoya, Japan - Professor Stephan Irle and Yoshio Nishimoto at the Institute of Transformative Bio-Molecules (ITbM) of Nagoya University and Dr. Dmitri Fedorov of the National Institute of Advanced Industrial Science and Technology (AIST, Tsukuba) have ... \n",
        "\n",
        "Truck beats red light, slams into van; 4 dead -> http://www.abs-cbnnews.com/nation/metro-manila/12/12/14/truck-beats-red-light-slams-van-4-dead?.tsrc=warhol\n",
        "Cavitex traffic investigator Jose Gallego said the trailer truck with plate number RAC 240 hit the delivery van with plate number UCM 612 after it beat the red light at the intersection. The truck, owned by RMCE Metal Products Trailer, also crashed into ... \n",
        "\n",
        "Community Calendar \u2014 Friday, Dec. 12 -> http://www.athensohiotoday.com/connect/community-calendar-friday-dec/article_aa8d2d0b-0c16-58d6-b65c-094f258682c7.html\n",
        "Card Club, 1 to 4:30 p.m., Athens Public Library, 30 Home St.; 592-4272. Free Saturday lunch, 1 p.m., UCM Center for Spiritual Growth and Social Justice, 18 N. College St., lower level, Athens; volunteers needed, donations accepted; information ... \n",
        "\n",
        "UCM students on alert after reported assault of female student -> http://fox4kc.com/2014/10/15/ucm-students-on-alert-after-reported-assault-of-female-student/\n",
        "WARRENSBURG, Mo. \u2014 A number of female students at the University of Central ... As a result of the on campus assault, UCM freshman Sarah Garver is now holding tightly on to her pepper spray when she steps outside her dorm. \u201cOnce I got to campus ... \n",
        "\n",
        "UCM Holiday Gift Room Accepting Your Donations by 12/5! -> http://patch.com/virginia/greateralexandria/ucm-holiday-gift-room-accepting-your-donations-125\n",
        "The holidays are here! And UCM of Alexandria needs your help to stock our Holiday Gift Room earlier this year than usual -- by our deadlne Friday, Dec. 5. We are gearing up to provide 1,200+ children, ages infant to 14, with gifts this year. We rely on ... \n",
        "\n",
        "UCM reiterates stand on territorial boundary ahead of GOI-NSCN (IM) talk -> http://kanglaonline.com/2014/09/ucm-reiterates-stand-on-territorial-boundary-ahead-of-goinscn-im-talk/\n",
        "IMPHAL, September 28: The United Committee Manipur, UCM today led a host of civil society organisations of the State to offer tribute to the martyrs of the Great June Uprising at Kekrupat Memorial Complex on the occasion of last day of the Langban Heitha ... \n",
        "\n",
        "Local student contributes to UCM\u2019s One-Act series -> http://nixaxpress.com/education/local-student-contributes-to-ucm-s-one-act-series/article_819bb790-75b2-11e4-908c-371a60fbaf15.html\n",
        "With involvement from a local student, the University of Central Missouri\u2019s Department of Theatre and Dance will present four one-act plays Dec. 4-6. Erin Townsend of Nixa, is part of the crew for the productions. The student-directed one-act plays that ... \n",
        "\n"
       ]
      }
     ],
     "prompt_number": 6
    },
    {
     "cell_type": "markdown",
     "metadata": {},
     "source": [
      "## Wikipedia\n",
      "\n",
      "Podemos buscar en Wikipedia para recuperar un determinado art\u00edculo. En este caso, el m\u00e9todo `.search()` no devuelve una lista de resultados, sino un \u00fanico objeto **art\u00edculo**. Desde este objeto podemos acceder al t\u00edtulo, las secciones y el t\u00edtulo, pero tambi\u00e9n los enlaces y las categor\u00edas dentro de la que est\u00e1 clasificado.\n",
      "\n",
      "Veamos un ejemplo con la p\u00e1gina sobre [Procesamiento del Lenguaje Natural en la wikipedia espa\u00f1ola](http://es.wikipedia.org/wiki/Procesamiento_del_lenguaje_natural)."
     ]
    },
    {
     "cell_type": "code",
     "collapsed": false,
     "input": [
      "# buscamos un art\u00edculo de Wikipedia en espa\u00f1ol\n",
      "wikipedia_es = Wikipedia(license=None, language=\"es\")\n",
      "articulo = wikipedia_es.search(\"procesamiento del lenguaje natural\")\n",
      "\n",
      "print \"T\u00cdTULO:\", articulo.title, \"\\n\"\n",
      "print \"TEXTO:\", articulo.string[:1000], \"... \\n\"\n",
      "\n",
      "print \"SECCIONES: \", \n",
      "for seccion in articulo.sections:\n",
      "    print seccion, \n",
      "\n",
      "print \"\\n\\nCATEGOR\u00cdAS:\"\n",
      "for categoria in articulo.categories:\n",
      "    print \"-\", categoria"
     ],
     "language": "python",
     "metadata": {},
     "outputs": [
      {
       "output_type": "stream",
       "stream": "stdout",
       "text": [
        "T\u00cdTULO: Procesamiento de lenguajes naturales \n",
        "\n",
        "TEXTO: No debe confundirse con Procesamiento del lenguaje.\n",
        "\n",
        "El procesamiento de lenguajes naturales \u2014abreviado PLN, o NLP del idioma ingl\u00e9s Natural Language Processing\u2014 es un campo de las ciencias de la computaci\u00f3n, inteligencia artificial y ling\u00fc\u00edstica que estudia las interacciones entre las computadoras y el lenguaje humano. El PLN se ocupa de la formulaci\u00f3n e investigaci\u00f3n de mecanismos eficaces computacionalmente para la comunicaci\u00f3n entre personas y m\u00e1quinas por medio de lenguajes naturales. El PLN no trata de la comunicaci\u00f3n por medio de lenguajes naturales de una forma abstracta, sino de dise\u00f1ar mecanismos para comunicarse que sean eficaces computacionalmente \u2014que se puedan realizar por medio de programas que ejecuten o simulen la comunicaci\u00f3n\u2014. Los modelos aplicados se enfocan no s\u00f3lo a la comprensi\u00f3n del lenguaje de por s\u00ed, sino a aspectos generales cognitivos humanos y a la organizaci\u00f3n de la memoria. El lenguaje natural sirve s\u00f3lo de medio para estudiar estos fen\u00f3menos. Hasta la d\u00e9 ... \n",
        "\n",
        "SECCIONES:  WikipediaSection(title=u'Procesamiento de lenguajes naturales') WikipediaSection(title=u'Historia') WikipediaSection(title=u'Dificultades en el procesamiento de lenguajes naturales') WikipediaSection(title=u'Ambig\\xfcedad') WikipediaSection(title=u'Detecci\\xf3n de separaci\\xf3n entre las palabras') WikipediaSection(title=u'Recepci\\xf3n imperfecta de datos') WikipediaSection(title=u'Componentes') WikipediaSection(title=u'Aplicaciones') WikipediaSection(title=u'V\\xe9ase tambi\\xe9n') WikipediaSection(title=u'Soluciones comerciales y comparativas tecnol\\xf3gicas') WikipediaSection(title=u'Enlaces externos') \n",
        "\n",
        "CATEGOR\u00cdAS:\n",
        "- Procesamiento_de_lenguaje_natural\n",
        "- Ac\u00fastica_fon\u00e9tica\n"
       ]
      }
     ],
     "prompt_number": 7
    },
    {
     "cell_type": "code",
     "collapsed": false,
     "input": [
      "articulo2 = wikipedia_es.search(\"espa\u00f1a\")\n",
      "print \"T\u00cdTULO:\", articulo2.title, \"\\n\"\n",
      "print \"TEXTO:\", articulo2.string[:1000], \"... \\n\""
     ],
     "language": "python",
     "metadata": {},
     "outputs": [
      {
       "output_type": "stream",
       "stream": "stdout",
       "text": [
        "T\u00cdTULO: Espa\u00f1a \n",
        "\n",
        "TEXTO: "
       ]
      },
      {
       "output_type": "stream",
       "stream": "stdout",
       "text": [
        "Para otros usos de este t\u00e9rmino, v\u00e9ase Espa\u00f1a (desambiguaci\u00f3n).\n",
        "\n",
        "\u00abReino de Espa\u00f1a\u00bb redirige aqu\u00ed. Para otras acepciones, v\u00e9ase Corona de Espa\u00f1a.\n",
        "\n",
        "Espa\u00f1a, [12] tambi\u00e9n denominado Reino de Espa\u00f1a, [nota 2] es un pa\u00eds soberano, miembro de la Uni\u00f3n Europea, constituido en Estado social y democr\u00e1tico de derecho y cuya forma de gobierno es la monarqu\u00eda parlamentaria. Su territorio est\u00e1 organizado en 17 comunidades aut\u00f3nomas y dos ciudades aut\u00f3nomas. Su capital es la villa de Madrid.\n",
        "\n",
        "Es un pa\u00eds transcontinental que se encuentra situado tanto en Europa Occidental como en el norte de \u00c1frica. En Europa ocupa la mayor parte de la pen\u00ednsula ib\u00e9rica, conocida como Espa\u00f1a peninsular, y el archipi\u00e9lago de las islas Baleares (en el mar Mediterr\u00e1neo occidental); en \u00c1frica se hallan las ciudades de Ceuta (en la pen\u00ednsula Tingitana) y Melilla (en el cabo de Tres Forcas), las islas Canarias (en el oc\u00e9ano Atl\u00e1ntico nororiental), las islas Chafarinas (mar Mediterr\u00e1neo), el pe\u00f1\u00f3n de V\u00e9lez de la Gomera (mar  ... \n",
        "\n"
       ]
      }
     ],
     "prompt_number": 8
    },
    {
     "cell_type": "markdown",
     "metadata": {},
     "source": [
      "Veamos otro ejemplo del art\u00edculo sobre [Caparezza en la Wikipedia italiana](http://it.wikipedia.org/wiki/Caparezza)."
     ]
    },
    {
     "cell_type": "code",
     "collapsed": false,
     "input": [
      "# buscamos un art\u00edculo de Wikipedia en italiano\n",
      "wikipedia_it = Wikipedia(license=None, language=\"it\")\n",
      "articulo = wikipedia_it.search(\"Caparezza\")"
     ],
     "language": "python",
     "metadata": {},
     "outputs": [],
     "prompt_number": 9
    },
    {
     "cell_type": "code",
     "collapsed": false,
     "input": [
      "for seccion in articulo.sections:\n",
      "    if seccion.title == \"Altri impegni e collaborazioni\":\n",
      "        print seccion.string[:1000]\n",
      "        print seccion.source[:1000]"
     ],
     "language": "python",
     "metadata": {},
     "outputs": [
      {
       "output_type": "stream",
       "stream": "stdout",
       "text": [
        "Altri impegni e collaborazioni [modifica | modifica wikitesto]\n",
        "\n",
        "Fa anche parte del gruppo SunnyColaConnection, che canta in dialetto molfettese, il cui album Alla molfettesa manera \u00e8 scaricabile gratuitamente dal sito ufficiale. [29] Nel 2005 esce Seguendo Virgilio - dentro e fuori il Quartetto Cetra, omaggio a Virgilio Savona del Quartetto Cetra, album in cui vari artisti rivisitano alcuni brani di Savona. Tra questi anche Caparezza con il brano Sciabola al fianco pistola alla mano. Nel mese di settembre 2006 esce Unusual, disco di tributo a Giuni Russo, curato e prodotto da Franco Battiato e Maria Antonietta Sisini. Si tratta di un CD e un DVD che raccolgono brani originali del repertorio di Giuni Russo remixati e riarrangiati con la partecipazione di molti artisti italiani ed internazionali, tra cui anche Caparezza con il brano Una vipera sar\u00f2.\n",
        "\n",
        "Il 2007 lo vede impegnato, oltre che nella stesura del nuovo album, in diverse collaborazioni: Puni, Mondo Marcio, Roy Paci & Aretuska, Pio\n",
        "<h2><span class=\"mw-headline\" id=\"Altri_impegni_e_collaborazioni\">Altri impegni e collaborazioni</span><span class=\"mw-editsection\"><span class=\"mw-editsection-bracket\">[</span><a href=\"/w/index.php?title=Caparezza&amp;veaction=edit&amp;vesection=8\" title=\"Modifica la sezione Altri impegni e collaborazioni\" class=\"mw-editsection-visualeditor\">modifica</a><span class=\"mw-editsection-divider\"> | </span><a href=\"/w/index.php?title=Caparezza&amp;action=edit&amp;section=8\" title=\"Modifica la sezione Altri impegni e collaborazioni\">modifica wikitesto</a><span class=\"mw-editsection-bracket\">]</span></span></h2>\n",
        "<div class=\"thumb tleft\">\n",
        "<div class=\"thumbinner\" style=\"width:222px;\"><a href=\"/wiki/File:Caparezza_-_Modena_2006.JPG\" class=\"image\"><img alt=\"\" src=\"//upload.wikimedia.org/wikipedia/commons/thumb/5/5b/Caparezza_-_Modena_2006.JPG/220px-Caparezza_-_Modena_2006.JPG\" width=\"220\" height=\"146\" class=\"thumbimage\" srcset=\"//upload.wikimedia.org/wikipedia/commons/thumb/5/5b/Caparezza_-_Modena\n"
       ]
      }
     ],
     "prompt_number": 10
    },
    {
     "cell_type": "markdown",
     "metadata": {},
     "source": [
      "### Wiktionary\n",
      "\n",
      "[Wiktionary](https://www.wiktionary.org/) es un proyecto hermano de Wikipedia cuyo objetivo principal es la elaboraci\u00f3n de un diccionario multiling\u00fce colaborativo. Podemos acceder a la informaci\u00f3n que tiene publicada a trav\u00e9s del objeto `Wiktionary`. \n",
      "\n",
      "F\u00edjate en el siguiente ejemplo:"
     ]
    },
    {
     "cell_type": "code",
     "collapsed": false,
     "input": [
      "# creamos un wiktionary en ingl\u00e9s\n",
      "wiktionary = Wiktionary(language=\"en\")\n",
      "busqueda = wiktionary.search(\"tool\")\n",
      "\n",
      "for seccion in busqueda.sections:\n",
      "    # imprime solo el contenido de la secci\u00f3n de traducciones\n",
      "    if seccion.title == \"Translations\":\n",
      "        print seccion.string"
     ],
     "language": "python",
     "metadata": {},
     "outputs": [
      {
       "output_type": "stream",
       "stream": "stdout",
       "text": [
        "Translationsmechanical device intended to make a task easier\n",
        "\n",
        "* Arabic: \u0623\u062f\u0627\u0629 f (adaat)\n",
        "Moroccan Arabic: \u062f\u0632\u0627\u0646 m pl (dezan)\n",
        "\n",
        "* Armenian: \u0563\u0578\u0580\u056e\u056b\u0584 (hy) (gorcik\u02bf)\n",
        "* Asturian: ferramienta (ast) f\n",
        "* Bulgarian: \u0438\u043d\u0441\u0442\u0440\u0443\u043c\u0435\u043d\u0442 (bg) m (instrum\u00e9nt)\n",
        "* Catalan: eina (ca) f\n",
        "* Chinese:\n",
        "Mandarin: \u5de5\u5177 (zh) (g\u014dngj\u00f9)\n",
        "\n",
        "* Czech: n\u00e1stroj (cs) m\n",
        "* Danish: instrument n, redskab (da) n\n",
        "* Dutch: gereedschap (nl) n, werktuig (nl) n, instrument (nl) n, hulpmiddel (nl) n\n",
        "* Esperanto: laborilo\n",
        "* Estonian: t\u00f6\u00f6riist (et)\n",
        "* Finnish: ty\u00f6kalu (fi)\n",
        "* French: outil (fr) m\n",
        "* Galician: ferramenta (gl) f\n",
        "* Georgian: please add this translation if you can\n",
        "* German: Werkzeug (de) n, Ger\u00e4t (de) n, Instrument (de) n\n",
        "* Greek: \u03b5\u03c1\u03b3\u03b1\u03bb\u03b5\u03af\u03bf (el) n (ergale\u00edo), \u03cc\u03c1\u03b3\u03b1\u03bd\u03bf (el) n (\u00f3rgano)\n",
        "* Hebrew: \u05db\u05dc\u05d9 (he) m (kli)\n",
        "* Hungarian: eszk\u00f6z (hu), szer (hu)\n",
        "* Indonesian: alat (id)\n",
        "* Interlingua: instrumento\n",
        "* Italian: arnese (it) m, strumento (it) m\n",
        "\n",
        "* Japanese: \u9053\u5177 (ja) (\u3069\u3046\u3050, d\u014dgu)\n",
        "* Korean: \ub3c4\uad6c (ko) (dogu)\n",
        "* Latin: instrumentum (la) n, ferramentum n\n",
        "* Luhya: sisindu\n",
        "* Malay: alat (ms)\n",
        "* Maori: paraha\n",
        "* Navajo: bee na\u02bcanish\u00ed\n",
        "* Norwegian: verkt\u00f8y (no) n\n",
        "* Persian: \u0627\u0628\u0632\u0627\u0631 (fa)\n",
        "* Polish: narz\u0119dzie (pl) n\n",
        "* Portuguese: instrumento (pt) m, ferramenta (pt) f\n",
        "* Romanian: scul\u0103 (ro) f, unealt\u0103 (ro) f, instrument (ro) n\n",
        "* Russian: \u0438\u043d\u0441\u0442\u0440\u0443\u043c\u0435\u043d\u0442 (ru) m (instrum\u00e9nt), \u043e\u0440\u0443\u0434\u0438\u0435 \u0442\u0440\u0443\u0434\u0430 n (or\u00fadije trud\u00e1)\n",
        "* Scots: tuil\n",
        "* Scottish Gaelic: inneal m\n",
        "* Serbo-Croatian: \u0430\u043b\u0430\u0442 m, alat m\n",
        "* Slovene: orodje (sl) n\n",
        "* Spanish: herramienta (es) f\n",
        "* Swahili: kifaa (sw) class 7/8\n",
        "* Swedish: verktyg (sv)\n",
        "* Turkish: ara\u00e7 (tr), alet (tr)\n",
        "* Walloon: usteye (wa) f, osti (wa) m\n",
        "* Welsh: teclyn (cy) m\n",
        "* West Frisian: ark n\n",
        "\n",
        "equipment used in a profession\n",
        "\n",
        "* Armenian: \u0563\u0578\u0580\u056e\u056b\u0584 (hy) (gorcik\u02bf)\n",
        "* Asturian: ferramienta (ast) f\n",
        "* Bulgarian: \u0441\u0440\u0435\u0434\u0441\u0442\u0432\u043e (bg) n (sr\u00e9dstvo)\n",
        "* Catalan: eina (ca) f\n",
        "* Chinese:\n",
        "Mandarin: \u5de5\u5177 (zh) (g\u014dngj\u00f9)\n",
        "\n",
        "* Danish: v\u00e6rkt\u00f8j (da) n\n",
        "* Dutch: gereedschap (nl) n, instrument (nl) n\n",
        "* Estonian: vahend\n",
        "* French: outil (fr) m\n",
        "* Galician: ferramenta (gl) f\n",
        "* Georgian: please add this translation if you can\n",
        "* German: Werkzeug (de) n, Instrument (de) n\n",
        "* Greek: \u03b5\u03c1\u03b3\u03b1\u03bb\u03b5\u03af\u03bf (el) n (ergale\u00edo)\n",
        "\n",
        "* Hebrew: \u05de\u05db\u05e9\u05d9\u05e8 m (makhshir)\n",
        "* Interlingua: instrumento\n",
        "* Italian: attrezzo (it) m, strumento (it) m\n",
        "* Japanese: \u9053\u5177 (ja) (\u3069\u3046\u3050, d\u014dgu), \u5de5\u5177 (ja) (\u3053\u3046\u3050, k\u014dgu)\n",
        "* Navajo: bee na\u02bcanish\u00ed\n",
        "* Norwegian: verkt\u00f8y (no) n\n",
        "Bokm\u00e5l: redskap (no) m, nNynorsk: reiskap m\n",
        "\n",
        "* Polish: narz\u0119dzie (pl) n\n",
        "* Portuguese: instrumento (pt) m, ferramenta (pt) f\n",
        "* Romanian: unealt\u0103 (ro), instrument (ro) n\n",
        "* Russian: \u0438\u043d\u0441\u0442\u0440\u0443\u043c\u0435\u043d\u0442 (ru) m (instrum\u00e9nt), \u0441\u0440\u0435\u0434\u0441\u0442\u0432\u043e (ru) n (sr\u00e9dstvo)\n",
        "* Serbo-Croatian: \u0441\u0440\u0435\u0434\u0441\u0442\u0432\u043e n, sredstvo (sh) n, \u043f\u0440\u0438\u0431\u043e\u0440 m, pribor (sh) m\n",
        "* Spanish: herramienta (es) f, utensilio (es) m\n",
        "* Swahili: kifaa (sw) class 7/8\n",
        "* Swedish: verktyg (sv)\n",
        "* Turkish: ara\u00e7 (tr)\n",
        "\n",
        "a software for developers\n",
        "\n",
        "* Chinese:\n",
        "Mandarin: \u5de5\u5177 (zh) (g\u014dngj\u00f9)\n",
        "\n",
        "* Czech: n\u00e1stroj (cs) m\n",
        "* Estonian: instrumentaalprogramm\n",
        "* German: Tool (de) n\n",
        "\n",
        "* Greek: \u03b5\u03c1\u03b3\u03b1\u03bb\u03b5\u03af\u03bf (el) (ergale\u00edo)\n",
        "* Japanese: \u30c4\u30fc\u30eb (ja) (ts\u016bru)\n",
        "* Portuguese: programa (pt) m, aplica\u00e7\u00e3o (pt) f\n",
        "* Russian: \u0438\u043d\u0441\u0442\u0440\u0443\u043c\u0435\u043d\u0442 (ru) m (instrum\u00e9nt), \u0441\u0440\u0435\u0434\u0441\u0442\u0432\u043e (ru) n (sr\u00e9dstvo), \u0442\u0443\u043b (ru) m (tul)\n",
        "\n",
        "person or group used or controlled by another\n",
        "\n",
        "* Czech: n\u00e1stroj (cs) m\n",
        "* German: Werkzeug (de) n, Instrument (de) n\n",
        "\n",
        "* Greek: \u03c5\u03c0\u03bf\u03c7\u03b5\u03af\u03c1\u03b9\u03bf (el) n (ypoche\u00edrio), \u03b5\u03bd\u03b5\u03c1\u03b3\u03bf\u03cd\u03bc\u03b5\u03bd\u03bf (el) n (energo\u00fameno)\n",
        "* Japanese: \u4f7f\u3044\u3063\u8d70\u308a (tsukaippashiri), (fool) \u3067\u304f\u306e\u574a (deku-no-b\u014d)\n",
        "\n",
        "penis\n",
        "\n",
        "* Danish: pik (da) n\n",
        "* Dutch: lul (nl) n\n",
        "* Estonian: riist\n",
        "* Finnish: kalu (fi)\n",
        "* German: Teil (de) n, Ger\u00e4t (de) n\n",
        "* Greek: \u03b5\u03c1\u03b3\u03b1\u03bb\u03b5\u03af\u03bf (el) n (ergale\u00edo)\n",
        "* Italian: arnese (it) m\n",
        "* Japanese: \u9053\u5177 (ja) (d\u014dgu), \u73a9\u5177 (ja) (gangu)\n",
        "\n",
        "* Luhya: msondo\n",
        "* Norwegian: kuk (no) m\n",
        "* Polish: kutas (pl) m\n",
        "* Portuguese: instrumento (pt) m, ferramenta (pt) f\n",
        "* Romanian: scul\u0103 (ro) f\n",
        "* Russian: \u043f\u0440\u0438\u0431\u043e\u0440 (ru) m (prib\u00f3r), \u0430\u043f\u043f\u0430\u0440\u0430\u0442 (ru) m (appar\u00e1t)\n",
        "* Swedish: kuk (sv)\n",
        "* Turkish: alet (tr)\n",
        "\n",
        "The translations below need to be checked and inserted above into the appropriate translation tables, removing any numbers. Numbers do not necessarily match those in definitions. See instructions at Help:How to check translations.\n",
        "\n",
        "Translations to be checked\n",
        "\n",
        "* Arabic: (please verify) \u0627\u062f\u0627\u0629 f (\u2019ad\u0101), (please verify) \u0622\u0644\u0629 (ar) f (\u2019\u0101la)\n",
        "* Avar: (please verify) \u043c\u0430\u0445\u04cf-\u043c\u0430\u0447\u04cf (ma\u1e25-ma\u010d\u0323)\n",
        "* Serbo-Croatian: (collective) (please verify) alat m\n",
        "* Catalan: (please verify) eina f\n",
        "* Danish: (please verify) kreatur n\n",
        "* Estonian: (please verify) tola (et), (please verify) marionett, (please verify) tuhvel\n",
        "* French: (please verify) mouton (fr) m\n",
        "* Georgian: (please verify) \u10d8\u10d0\u10e0\u10d0\u10e6\u10d8 (iara\u1e21i)\n",
        "* Interlingua: (please verify) utensile, (please verify) instrumento\n",
        "* Korean: (please verify) \uc5f0\uc7a5 (ko) (yeonjang)\n",
        "\n",
        "* Norwegian: (please verify) t\u00f8ffel (no) m\n",
        "* Romanian: (please verify) unealt\u0103 f, (please verify) ustensil\u0103 f, (please verify) instrument n\n",
        "* Serbo-Croatian:\n",
        "Cyrillic: (collective) (please verify) \u0430\u043b\u0430\u0442 mRoman: (collective) (please verify) alat m\n",
        "\n",
        "* Telugu: (please verify) \u0c2a\u0c30\u0c3f\u0c15\u0c30\u0c02 (parikara\u1e43)\n",
        "Translationsto work on or shape with tools\n",
        "\n",
        "* Bulgarian: \u0438\u0437\u0440\u0430\u0431\u043e\u0442\u0432\u0430\u043c (bg) (izrabotvam)\n",
        "* Catalan: (please verify) donar forma\n",
        "* Czech: obr\u00e1b\u011bt\n",
        "* Danish: bearbejde\n",
        "* Dutch: bewerken (nl)\n",
        "* Estonian: viimistlema\n",
        "* Finnish: ty\u00f6st\u00e4\u00e4 (fi)\n",
        "\n",
        "* French: fa\u00e7onner (fr)\n",
        "* German: bearbeiten (de)\n",
        "* Interlingua: (please verify) formar (con utensiles)\n",
        "* Norwegian: bearbeide\n",
        "* Polish: obrabia\u0107 (pl)\n",
        "* Portuguese: talhar (pt), trabalhar (pt)\n",
        "\n",
        "to equip with tools\n",
        "\n",
        "* Bulgarian: \u043e\u0431\u043e\u0440\u0443\u0434\u0432\u0430\u043c (bg) (oborudvam)\n",
        "* Catalan: equipar (ca)\n",
        "* Danish: udstyre med maskiner\n",
        "* Dutch: uitrusten (nl)\n",
        "* Estonian: varustama\n",
        "* Finnish: varustaa (fi)\n",
        "\n",
        "* Galician: equipar f\n",
        "* Norwegian: utstyre utruste\n",
        "* Polish: wyposa\u017ca\u0107\n",
        "* Portuguese: equipar (pt)\n",
        "* Russian: \u044d\u043a\u0438\u043f\u0438\u0440\u043e\u0432\u0430\u0442\u044c (ekip\u00edrov\u00e1t\u2019), \u043e\u0431\u043e\u0440\u0443\u0434\u043e\u0432\u0430\u0442\u044c (obor\u00fadovat\u2019), \u043e\u0441\u043d\u0430\u0449\u0430\u0442\u044c (osna\u0161\u010dat\u02b9), \u043e\u0441\u043d\u0430\u0441\u0442\u0438\u0442\u044c (osna\u0161'\u00e1t'/osnast\u00edt')\n",
        "\n",
        "to work very hard\n",
        "\n",
        "* Estonian: r\u00fcgama\n",
        "\n",
        "* Polish: harowa\u0107 (pl)\n",
        "\n",
        "volleyball\n",
        "\n",
        "The translations below need to be checked and inserted above into the appropriate translation tables, removing any numbers. Numbers do not necessarily match those in definitions. See instructions at Help:How to check translations.\n",
        "\n",
        "Translations to be checked\n",
        "\n",
        "* Catalan: (please verify) cisellar\n",
        "* Interlingua: (please verify) taliar, (please verify) cisellar, (please verify) equipar\n",
        "\n",
        "* Romanian: (please verify) cizela, (please verify) da form\u0103\n"
       ]
      }
     ],
     "prompt_number": 11
    },
    {
     "cell_type": "markdown",
     "metadata": {},
     "source": [
      "## Twitter\n",
      "\n",
      "Tambi\u00e9n podemos interactuar con Twitter de varias formas diferentes. Lo m\u00e1s sencillo consiste en lanza una e imprimir los mensajes por pantalla. F\u00edjate en que, en este caso, el m\u00e9todo `.search()` devuelve una lista de tweets, y podemos acceder a varias propiedades de estos mensajes, como *author*, *text*, *date*, *url*, *id*, etc"
     ]
    },
    {
     "cell_type": "code",
     "collapsed": false,
     "input": [
      "twitter = Twitter()\n",
      "for tweet in twitter.search(\"aver biene\", start=None, count=10):\n",
      "    print tweet.author, \"->\", tweet.text\n",
      "    print tweet.url, tweet.date\n",
      "    print \"\\n\""
     ],
     "language": "python",
     "metadata": {},
     "outputs": [
      {
       "output_type": "stream",
       "stream": "stdout",
       "text": [
        "cristobalfern16 -> Con ganitas de ver ala tonta aver si se biene ya pa cambil\n",
        "https://twitter.com/cristobalfern16/status/543421252258762752 Fri Dec 12 15:04:57 +0000 2014\n",
        "\n",
        "\n",
        "axelitogames -> @nacho_kcc no te calentes  a llorar a la iglesia aver si nos pueden ganar el a\u00f1o que biene jaja chau hijo anda a dormir que es tarde :)\n",
        "https://twitter.com/axelitogames/status/543235559301206016 Fri Dec 12 02:47:04 +0000 2014\n",
        "\n",
        "\n",
        "Distous -> Aver ahora biene este pedo a revisar super ciudadanos..  Informacion http://t.co/I3I6t9IK3m\n",
        "https://twitter.com/Distous/status/543036693469986816 Thu Dec 11 13:36:51 +0000 2014\n",
        "\n",
        "\n",
        "Ronaldleal16 -> aver... q pasa tenerme envidia o ravia pero de q...!! soy igual q thodos y puss q  lo q les digo ami me va y me biene http://t.co/SaYq6rvOGx\n",
        "https://twitter.com/Ronaldleal16/status/542773175747358720 Wed Dec 10 20:09:43 +0000 2014\n",
        "\n",
        "\n",
        "NiicoolasAlegre -> Me aburro quien me biene aver :__\n",
        "https://twitter.com/NiicoolasAlegre/status/542771026552451073 Wed Dec 10 20:01:11 +0000 2014\n",
        "\n",
        "\n",
        "josegcapeans -> @Mg2012Anonimus espera que pronto te biene podemos.aver lo que dices.\n",
        "https://twitter.com/josegcapeans/status/542086108872736769 Mon Dec 08 22:39:34 +0000 2014\n",
        "\n",
        "\n",
        "juanfrandiaz2 -> Aver sin eso hasta la semana que biene a cambiado algo\n",
        "https://twitter.com/juanfrandiaz2/status/542084438260477953 Mon Dec 08 22:32:56 +0000 2014\n",
        "\n",
        "\n",
        "Buchuiita_Glam -> @QueenEsther193 Ufff Aver Dejame Contarlos 15 Con la Tuya y ka de Paloma k biene. En camino \ud83d\ude0d\ud83d\ude0d\ud83d\ude0d\ud83d\ude0d\ud83d\ude0d\n",
        "https://twitter.com/Buchuiita_Glam/status/542024461965594624 Mon Dec 08 18:34:36 +0000 2014\n",
        "\n",
        "\n",
        "MatyyCorzo -> en una semannita al gym con chinoni aver si el a\u00f1o q biene le pegamos fuerte a la pelota\n",
        "https://twitter.com/MatyyCorzo/status/541976249892360192 Mon Dec 08 15:23:02 +0000 2014\n",
        "\n",
        "\n",
        "neeereaorellana -> RT @juanluiscerro: Puess na ara un tiempesito d reposo i sin motiitoo y aver si ma\u00f1ana biene mi gordi aberme @neeereaorellana teamoo mivida\n",
        "https://twitter.com/neeereaorellana/status/541715424669605888 Sun Dec 07 22:06:36 +0000 2014\n",
        "\n",
        "\n"
       ]
      }
     ],
     "prompt_number": 12
    },
    {
     "cell_type": "markdown",
     "metadata": {},
     "source": [
      "Podemos acceder a los *trending topics*, es decir, los temas m\u00e1s comentados en un determinado momento:"
     ]
    },
    {
     "cell_type": "code",
     "collapsed": false,
     "input": [
      "# imprime los Trending Topic actuales \n",
      "print \"Los Trending Topics con fecha y hora\", time.strftime(\"%Y-%m-%d %H:%M\"), \"son:\"\n",
      "for tt in twitter.trends(cached=False):\n",
      "    print tt"
     ],
     "language": "python",
     "metadata": {},
     "outputs": [
      {
       "output_type": "stream",
       "stream": "stdout",
       "text": [
        "Los Trending Topics con fecha y hora 2014-12-12 17:01 son:\n",
        "#TheCommentWithOPPO"
       ]
      },
      {
       "output_type": "stream",
       "stream": "stdout",
       "text": [
        "\n",
        "#1KataRSIAdvanBestOf5\n",
        "#FelizDiaDelHinchaDelCABJ\n",
        "#EnjoyChristmas\n",
        "#RIPSammy\n",
        "All London\n",
        "Me and Simon\n",
        "Happy 14th Birthday Brace Arquiza\n",
        "1000 Weeks Of DDLJ\n",
        "Yours and Mine\n"
       ]
      }
     ],
     "prompt_number": 13
    },
    {
     "cell_type": "markdown",
     "metadata": {},
     "source": [
      "Y podemos ver casi en tiempo casi real los mensajes que se publican si leemos el torrente de mensaje a trav\u00e9s del m\u00e9todo `.stream()`. Usa con moderaci\u00f3n la siguiente celda, o nos bloquear\u00e1n el acceso:"
     ]
    },
    {
     "cell_type": "code",
     "collapsed": false,
     "input": [
      "s = twitter.stream(u\"iphone\")\n",
      "for i in range(10):\n",
      "    time.sleep(2) \n",
      "    s.update(bytes=1024)\n",
      "    if s:\n",
      "        print s[-1].text"
     ],
     "language": "python",
     "metadata": {},
     "outputs": [
      {
       "output_type": "stream",
       "stream": "stdout",
       "text": [
        "@alltoominnie iiih al\u00e1 \ud83d\ude39\ud83d\ude39\ud83d\ude39\ud83d\ude39\ud83d\ude39\ud83d\ude39\ud83d\ude39\ud83d\ude39 ain, ngm merece aquela menina com iphone \ud83d\ude39 maas voc\u00ea \u00e9 bemmm melhor que ela, n se preocupe\n",
        "@alltoominnie iiih al\u00e1 \ud83d\ude39\ud83d\ude39\ud83d\ude39\ud83d\ude39\ud83d\ude39\ud83d\ude39\ud83d\ude39\ud83d\ude39 ain, ngm merece aquela menina com iphone \ud83d\ude39 maas voc\u00ea \u00e9 bemmm melhor que ela, n se preocupe"
       ]
      },
      {
       "output_type": "stream",
       "stream": "stdout",
       "text": [
        "\n",
        "@alltoominnie iiih al\u00e1 \ud83d\ude39\ud83d\ude39\ud83d\ude39\ud83d\ude39\ud83d\ude39\ud83d\ude39\ud83d\ude39\ud83d\ude39 ain, ngm merece aquela menina com iphone \ud83d\ude39 maas voc\u00ea \u00e9 bemmm melhor que ela, n se preocupe"
       ]
      },
      {
       "output_type": "stream",
       "stream": "stdout",
       "text": [
        "\n",
        "@alltoominnie iiih al\u00e1 \ud83d\ude39\ud83d\ude39\ud83d\ude39\ud83d\ude39\ud83d\ude39\ud83d\ude39\ud83d\ude39\ud83d\ude39 ain, ngm merece aquela menina com iphone \ud83d\ude39 maas voc\u00ea \u00e9 bemmm melhor que ela, n se preocupe"
       ]
      },
      {
       "output_type": "stream",
       "stream": "stdout",
       "text": [
        "\n",
        "@alltoominnie iiih al\u00e1 \ud83d\ude39\ud83d\ude39\ud83d\ude39\ud83d\ude39\ud83d\ude39\ud83d\ude39\ud83d\ude39\ud83d\ude39 ain, ngm merece aquela menina com iphone \ud83d\ude39 maas voc\u00ea \u00e9 bemmm melhor que ela, n se preocupe"
       ]
      },
      {
       "output_type": "stream",
       "stream": "stdout",
       "text": [
        "\n",
        "@alltoominnie iiih al\u00e1 \ud83d\ude39\ud83d\ude39\ud83d\ude39\ud83d\ude39\ud83d\ude39\ud83d\ude39\ud83d\ude39\ud83d\ude39 ain, ngm merece aquela menina com iphone \ud83d\ude39 maas voc\u00ea \u00e9 bemmm melhor que ela, n se preocupe"
       ]
      },
      {
       "output_type": "stream",
       "stream": "stdout",
       "text": [
        "\n",
        "@alltoominnie iiih al\u00e1 \ud83d\ude39\ud83d\ude39\ud83d\ude39\ud83d\ude39\ud83d\ude39\ud83d\ude39\ud83d\ude39\ud83d\ude39 ain, ngm merece aquela menina com iphone \ud83d\ude39 maas voc\u00ea \u00e9 bemmm melhor que ela, n se preocupe"
       ]
      },
      {
       "output_type": "stream",
       "stream": "stdout",
       "text": [
        "\n",
        "@alltoominnie iiih al\u00e1 \ud83d\ude39\ud83d\ude39\ud83d\ude39\ud83d\ude39\ud83d\ude39\ud83d\ude39\ud83d\ude39\ud83d\ude39 ain, ngm merece aquela menina com iphone \ud83d\ude39 maas voc\u00ea \u00e9 bemmm melhor que ela, n se preocupe"
       ]
      },
      {
       "output_type": "stream",
       "stream": "stdout",
       "text": [
        "\n"
       ]
      }
     ],
     "prompt_number": 14
    },
    {
     "cell_type": "markdown",
     "metadata": {},
     "source": [
      "## Facebook\n",
      "\n",
      "Tambi\u00e9n podemos acceder a los mensajes p\u00fablicos de Facebook. Si configuramos nuestra cuenta podemos acceder a nuestra informaci\u00f3n privada y a la de nuestros contactos, de manera similar a como accemos desde la aplicaci\u00f3n m\u00f3vil o desde el navegador."
     ]
    },
    {
     "cell_type": "code",
     "collapsed": false,
     "input": [
      "fb = Facebook(license=None)\n",
      "for post in fb.search(\"universidad complutense\"):\n",
      "    print \"---------------------------------\"\n",
      "    print post.url\n",
      "    print plaintext(post.text)[:500]\n",
      "    print \"\\n\""
     ],
     "language": "python",
     "metadata": {},
     "outputs": [
      {
       "output_type": "stream",
       "stream": "stdout",
       "text": [
        "---------------------------------\n",
        "\n",
        "El 9 y 10 de enero se estar\u00e1 impartiendo, en la sede de Toluca del IAPEM, el Seminario \"Estrategias exitosas de campa\u00f1a en contextos para el cambio. Qu\u00e9 ciudad es \u00e9sta, qui\u00e9n eres, a qu\u00e9 aspiras\", impartida por el Dr. Ismael Crespo, de la Universidad Complutense de Madrid, el Instituto Universitario de Investigaci\u00f3n Ortega y Gasset y la Asociaci\u00f3n Latinoamericana de Investigaciones en Campa\u00f1as Electorales.\n",
        "Los horarios ser\u00e1n los siguientes:\n",
        "Viernes 9:00 a 14:00 y 16:00 a 20:00 horas.\n",
        "S\u00e1bado 9:00\n",
        "\n",
        "\n",
        "---------------------------------\n",
        "\n",
        "El 9 y 10 de enero se estar\u00e1 impartiendo, en la sede de Toluca del IAPEM, el Seminario \"Estrategias exitosas de campa\u00f1a en contextos para el cambio. Qu\u00e9 ciudad es \u00e9sta, qui\u00e9n eres, a qu\u00e9 aspiras\", impartida por el Dr. Ismael Crespo, de la Universidad Complutense de Madrid, el Instituto Universitario de Investigaci\u00f3n Ortega y Gasset y la Asociaci\u00f3n Latinoamericana de Investigaciones en Campa\u00f1as Electorales.\n",
        "Los horarios ser\u00e1n los siguientes:\n",
        "Viernes 9:00 a 14:00 y 16:00 a 20:00 horas.\n",
        "S\u00e1bado 9:00\n",
        "\n",
        "\n",
        "---------------------------------\n",
        "http://www.spiegel.de/wirtschaft/soziales/spanien-verbraucherpreise-sinken-um-0-4-prozent-a-1008182.html\n",
        "Los precios en Espa\u00f1a caen m\u00e1s y m\u00e1s alertando de una posible deflaci\u00f3n en Europa. En noviembre la tasa de deflaci\u00f3n en la cuarta econom\u00eda de la eurozona cay\u00f3 un 0,4%.\n",
        "\n",
        "\n",
        "---------------------------------\n",
        "http://www.ucm.es/hcv/banco-de-sangre\n",
        "Hay bancos de sangre para animales que permiten la donaci\u00f3n, es s\u00f3lo un pinchacito y se pueden salvar muchas vidas. Aqu\u00ed el de Madrid, para quien le interese\n",
        "\n",
        "http://www.ucm.es/hcv/banco-de-sangre\n",
        "\n",
        "\n",
        "---------------------------------\n",
        "https://www.facebook.com/194269423971100/photos/a.221962384535137.55490.194269423971100/708317992566238/?type=1\n",
        "Jorge Passalacqua shared \"Toros Libres\": Millones de voces en contra de las corridas de toros's photo.\n",
        "\n",
        "\n",
        "---------------------------------\n",
        "\n",
        "Los jefes de Podemos pueden lanzar a la calle 100.000 individuos en media hora y colapsar una ciudad. \u00bfVan a decir algo sobre los funestos sindicatos estudiantiles? \u00a1C\u00f3mo van a hacerlo si ellos los controlan! Tambi\u00e9n son ellos quienes deciden qui\u00e9n entra y qui\u00e9n no en su residencia. Cuando revientan actos no lo hacen por ideolog\u00eda (de la que carecen, aparte de un sumario castrismo-leninismo), sino para mostrar qui\u00e9n es el amo de ese mayorazgo. En los reportajes de aquella violenta irrupci\u00f3n en l\n",
        "\n",
        "\n",
        "---------------------------------\n",
        "https://www.facebook.com/CQPmadrid/photos/a.404550913028789.1073741829.402058179944729/404886699661877/?type=1\n",
        "Lourdes Pintos shared Claro que Podemos - Madrid's photo.\n",
        "\n",
        "\n",
        "---------------------------------\n",
        "http://lavozliberacionista.blogspot.com/2014/12/reelecto-magistrado-chinchilla-la-sala.html?spref=fb\n",
        "Julio Rojas shared a link.\n",
        "\n",
        "\n",
        "---------------------------------\n",
        "https://www.facebook.com/516494828468582/photos/a.519811464803585.1073741829.516494828468582/650468371737893/?type=1\n",
        "Marga Wicca Celtibera shared Celtiberia's photo.\n",
        "\n",
        "\n",
        "---------------------------------\n",
        "http://www.ucm.es/BUCM/blogs/Foliocomplutense/9596.php\n",
        "Con motivo de la conmemoraci\u00f3n del d\u00eda de las librer\u00edas, el 29 de noviembre recordamos a los ejemplos m\u00e1s tempranos de librer\u00edas y libreros de Madrid en la segunda mitad del siglo XVIII y repasamos la problem\u00e1tica de este colectivo por aquel tiempo. \u2026\n",
        "\n",
        "\n"
       ]
      }
     ],
     "prompt_number": 15
    },
    {
     "cell_type": "markdown",
     "metadata": {},
     "source": [
      "## Google translate\n",
      "\n"
     ]
    },
    {
     "cell_type": "markdown",
     "metadata": {},
     "source": [
      "[Google Translate](http://translate.google.es/?hl=es) recientemente ha pasado a ser un servicio de pago y ahora no funciona salvo que [obtengamos una *license key*](https://code.google.com/apis/console/) y asociemos a nuestra cuenta una tarjeta de cr\u00e9dito. No es caro: traducir un mill\u00f3n de palabras cuesta $20. \u00bfHacemos un fondo?\n",
      "\n",
      "Llegado el caso, se puede configurar de la siguiente manera."
     ]
    },
    {
     "cell_type": "code",
     "collapsed": false,
     "input": [
      "oracion = \"El perro de San Roque no tiene rabo porque Ram\u00f3n Rodr\u00edguez se lo ha cortado\"\n",
      "google = Google(license=None) \n",
      "print google.translate(oracion, input=\"es\", output=\"en\", cached=False)\n",
      "print google.identify(oracion)"
     ],
     "language": "python",
     "metadata": {},
     "outputs": [
      {
       "ename": "HTTP401Authentication",
       "evalue": "Google translate API is a paid service",
       "output_type": "pyerr",
       "traceback": [
        "\u001b[1;31m---------------------------------------------------------------------------\u001b[0m\n\u001b[1;31mHTTP401Authentication\u001b[0m                     Traceback (most recent call last)",
        "\u001b[1;32m<ipython-input-16-40a30da78921>\u001b[0m in \u001b[0;36m<module>\u001b[1;34m()\u001b[0m\n\u001b[0;32m      1\u001b[0m \u001b[0moracion\u001b[0m \u001b[1;33m=\u001b[0m \u001b[1;34m\"El perro de San Roque no tiene rabo porque Ram\u00f3n Rodr\u00edguez se lo ha cortado\"\u001b[0m\u001b[1;33m\u001b[0m\u001b[0m\n\u001b[0;32m      2\u001b[0m \u001b[0mgoogle\u001b[0m \u001b[1;33m=\u001b[0m \u001b[0mGoogle\u001b[0m\u001b[1;33m(\u001b[0m\u001b[0mlicense\u001b[0m\u001b[1;33m=\u001b[0m\u001b[0mNone\u001b[0m\u001b[1;33m)\u001b[0m\u001b[1;33m\u001b[0m\u001b[0m\n\u001b[1;32m----> 3\u001b[1;33m \u001b[1;32mprint\u001b[0m \u001b[0mgoogle\u001b[0m\u001b[1;33m.\u001b[0m\u001b[0mtranslate\u001b[0m\u001b[1;33m(\u001b[0m\u001b[0moracion\u001b[0m\u001b[1;33m,\u001b[0m \u001b[0minput\u001b[0m\u001b[1;33m=\u001b[0m\u001b[1;34m\"es\"\u001b[0m\u001b[1;33m,\u001b[0m \u001b[0moutput\u001b[0m\u001b[1;33m=\u001b[0m\u001b[1;34m\"en\"\u001b[0m\u001b[1;33m,\u001b[0m \u001b[0mcached\u001b[0m\u001b[1;33m=\u001b[0m\u001b[0mFalse\u001b[0m\u001b[1;33m)\u001b[0m\u001b[1;33m\u001b[0m\u001b[0m\n\u001b[0m\u001b[0;32m      4\u001b[0m \u001b[1;32mprint\u001b[0m \u001b[0mgoogle\u001b[0m\u001b[1;33m.\u001b[0m\u001b[0midentify\u001b[0m\u001b[1;33m(\u001b[0m\u001b[0moracion\u001b[0m\u001b[1;33m)\u001b[0m\u001b[1;33m\u001b[0m\u001b[0m\n",
        "\u001b[1;32m/usr/local/lib/python2.7/dist-packages/Pattern-2.6-py2.7.egg/pattern/web/__init__.pyc\u001b[0m in \u001b[0;36mtranslate\u001b[1;34m(self, string, input, output, **kwargs)\u001b[0m\n\u001b[0;32m   1208\u001b[0m             \u001b[0mdata\u001b[0m \u001b[1;33m=\u001b[0m \u001b[0murl\u001b[0m\u001b[1;33m.\u001b[0m\u001b[0mdownload\u001b[0m\u001b[1;33m(\u001b[0m\u001b[1;33m**\u001b[0m\u001b[0mkwargs\u001b[0m\u001b[1;33m)\u001b[0m\u001b[1;33m\u001b[0m\u001b[0m\n\u001b[0;32m   1209\u001b[0m         \u001b[1;32mexcept\u001b[0m \u001b[0mHTTP403Forbidden\u001b[0m\u001b[1;33m:\u001b[0m\u001b[1;33m\u001b[0m\u001b[0m\n\u001b[1;32m-> 1210\u001b[1;33m             \u001b[1;32mraise\u001b[0m \u001b[0mHTTP401Authentication\u001b[0m\u001b[1;33m(\u001b[0m\u001b[1;34m\"Google translate API is a paid service\"\u001b[0m\u001b[1;33m)\u001b[0m\u001b[1;33m\u001b[0m\u001b[0m\n\u001b[0m\u001b[0;32m   1211\u001b[0m         \u001b[0mdata\u001b[0m \u001b[1;33m=\u001b[0m \u001b[0mjson\u001b[0m\u001b[1;33m.\u001b[0m\u001b[0mloads\u001b[0m\u001b[1;33m(\u001b[0m\u001b[0mdata\u001b[0m\u001b[1;33m)\u001b[0m\u001b[1;33m\u001b[0m\u001b[0m\n\u001b[0;32m   1212\u001b[0m         \u001b[0mdata\u001b[0m \u001b[1;33m=\u001b[0m \u001b[0mdata\u001b[0m\u001b[1;33m.\u001b[0m\u001b[0mget\u001b[0m\u001b[1;33m(\u001b[0m\u001b[1;34m\"data\"\u001b[0m\u001b[1;33m,\u001b[0m \u001b[1;33m{\u001b[0m\u001b[1;33m}\u001b[0m\u001b[1;33m)\u001b[0m\u001b[1;33m.\u001b[0m\u001b[0mget\u001b[0m\u001b[1;33m(\u001b[0m\u001b[1;34m\"translations\"\u001b[0m\u001b[1;33m,\u001b[0m \u001b[1;33m[\u001b[0m\u001b[1;33m{\u001b[0m\u001b[1;33m}\u001b[0m\u001b[1;33m]\u001b[0m\u001b[1;33m)\u001b[0m\u001b[1;33m[\u001b[0m\u001b[1;36m0\u001b[0m\u001b[1;33m]\u001b[0m\u001b[1;33m.\u001b[0m\u001b[0mget\u001b[0m\u001b[1;33m(\u001b[0m\u001b[1;34m\"translatedText\"\u001b[0m\u001b[1;33m,\u001b[0m \u001b[1;34m\"\"\u001b[0m\u001b[1;33m)\u001b[0m\u001b[1;33m\u001b[0m\u001b[0m\n",
        "\u001b[1;31mHTTP401Authentication\u001b[0m: Google translate API is a paid service"
       ]
      }
     ],
     "prompt_number": 16
    }
   ],
   "metadata": {}
  }
 ]
}