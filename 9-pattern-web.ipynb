{
 "metadata": {
  "name": "",
  "signature": "sha256:bcba5f1b75aed6359f2667e3cb003a0496775589e88e25287d84d2f816ab2808"
 },
 "nbformat": 3,
 "nbformat_minor": 0,
 "worksheets": [
  {
   "cells": [
    {
     "cell_type": "markdown",
     "metadata": {},
     "source": [
      "# `pattern.web`: m\u00f3dulo para interactuar con buscadores y redes sociales\n",
      "\n",
      "[pattern](http://www.clips.ua.ac.be/pages/pattern) es otro conjunto de herramientas (librer\u00eda) muy interesante para realizar procesamiento del lenguaje con Python. En esta presentaci\u00f3n voy a centrarme en algunas de sus funcionalidades que tienen el m\u00f3dulo [`pattern.web`](http://www.clips.ua.ac.be/pages/pattern-web).\n",
      "\n",
      "`pattern.web` integra varias herramientas para realizar miner\u00eda de datos en la web (*online data mining*). Lo que m\u00e1s nos puede interesar es c\u00f3mo interactuar con buscadores web: es decir, c\u00f3mo usar Google, Bing, Yahoo, Twitter, Wikipedia, Flickr, etc. y como usar redes sociales como Facebook y Twitter desde Python.\n",
      "\n",
      "Lo primero que necesitamos hacer es importar [las herramientas del m\u00f3dulo `pattern.web`](http://www.clips.ua.ac.be/pages/pattern-web#services) que vamos a usar."
     ]
    },
    {
     "cell_type": "code",
     "collapsed": false,
     "input": [
      "from pattern.web import Google, Bing, Wikipedia, Twitter, Facebook, plaintext\n",
      "import time"
     ],
     "language": "python",
     "metadata": {},
     "outputs": []
    },
    {
     "cell_type": "markdown",
     "metadata": {},
     "source": [
      "## Interactuar con buscadores\n",
      "\n",
      "Podemos usar `pattern.web` para interactuar directamente con algunos buscadores web. \n",
      "\n",
      "Todos funcionan de manera similar: creamos un tipo de objeto diferente para cada buscador y podemos realizar b\u00fasquedas (con distintas opciones) a trav\u00e9s de un m\u00e9todo llamado `.search()`. Dicho m\u00e9todo nos permite lanzar una busqueda, especificada como una cadena de texto y recuperar una *lista de resultados* sobre la que podemos iterar para acceder al t\u00edtulo, la URL, el resumen de la web de destino, etc.\n",
      "\n",
      "Veamos algunos ejemplos."
     ]
    },
    {
     "cell_type": "code",
     "collapsed": false,
     "input": [
      "# buscamos con Google Search\n",
      "google = Google(license=None, language=None) # no especificamos idioma de b\u00fasqueda\n",
      "resultados = google.search(\"ucm\") \n",
      "for resultado in resultados:\n",
      "    print resultado.title, \"->\", resultado.url\n",
      "    print plaintext(resultado.text), \"\\n\""
     ],
     "language": "python",
     "metadata": {},
     "outputs": []
    },
    {
     "cell_type": "code",
     "collapsed": false,
     "input": [
      "# buscamos con Google Search, esta vez restringiendo la b\u00fasqueda a webs en espa\u00f1ol\n",
      "google_es = Google(license=None, language=\"es\")\n",
      "resultados = google_es.search(\"ucm\")\n",
      "for resultado in resultados:\n",
      "    print resultado.title, \"->\", resultado.url\n",
      "    print plaintext(resultado.text), \"\\n\""
     ],
     "language": "python",
     "metadata": {},
     "outputs": []
    },
    {
     "cell_type": "code",
     "collapsed": false,
     "input": [
      "# buscamos con Bing\n",
      "bing = Bing(license=None, language=None)\n",
      "resultados = bing.search(\"ucm\")\n",
      "for resultado in resultados:\n",
      "    print resultado.title, \"->\", resultado.url\n",
      "    print plaintext(resultado.text), \"\\n\""
     ],
     "language": "python",
     "metadata": {},
     "outputs": []
    },
    {
     "cell_type": "code",
     "collapsed": false,
     "input": [
      "# buscamos en las noticias de Bing\n",
      "resultados = bing.search(\"ucm\", type=\"news\")\n",
      "for resultado in resultados:\n",
      "    print resultado.title, \"->\", resultado.url\n",
      "    print plaintext(resultado.text), \"\\n\""
     ],
     "language": "python",
     "metadata": {},
     "outputs": []
    },
    {
     "cell_type": "markdown",
     "metadata": {},
     "source": [
      "## Wikipedia\n",
      "\n",
      "Podemos buscar en Wikipedia para recuperar un determinado art\u00edculo. En este caso, el m\u00e9todo `.search()` no devuelve una lista de resultados, sino un \u00fanico objeto **art\u00edculo**. Desde este objeto podemos acceder al t\u00edtulo, las secciones y el t\u00edtulo, pero tambi\u00e9n los enlaces y las categor\u00edas dentro de la que est\u00e1 clasificado.\n",
      "\n",
      "Veamos un ejemplo con la p\u00e1gina sobre [Procesamiento del Lenguaje Natural en la wikipedia espa\u00f1ola](http://es.wikipedia.org/wiki/Procesamiento_del_lenguaje_natural)."
     ]
    },
    {
     "cell_type": "code",
     "collapsed": false,
     "input": [
      "# buscamos un art\u00edculo de Wikipedia en espa\u00f1ol\n",
      "wikipedia_es = Wikipedia(license=None, language=\"es\")\n",
      "articulo = wikipedia_es.search(\"procesamiento del lenguaje natural\")\n",
      "\n",
      "print \"T\u00cdTULO:\", articulo.title, \"\\n\"\n",
      "print \"TEXTO:\", articulo.string[:1000], \"... \\n\"\n",
      "\n",
      "print \"SECCIONES: \", \n",
      "for seccion in articulo.sections:\n",
      "    print seccion, \n",
      "\n",
      "print \"\\n\\nCATEGOR\u00cdAS:\"\n",
      "for categoria in articulo.categories:\n",
      "    print \"-\", categoria"
     ],
     "language": "python",
     "metadata": {},
     "outputs": []
    },
    {
     "cell_type": "markdown",
     "metadata": {},
     "source": [
      "Veamos otro ejemplo del art\u00edculo sobre [Caparezza en la Wikipedia italiana](http://it.wikipedia.org/wiki/Caparezza)."
     ]
    },
    {
     "cell_type": "code",
     "collapsed": false,
     "input": [
      "# buscamos un art\u00edculo de Wikipedia en italiano\n",
      "wikipedia_it = Wikipedia(license=None, language=\"it\")\n",
      "articulo = wikipedia_it.search(\"Caparezza\")"
     ],
     "language": "python",
     "metadata": {},
     "outputs": []
    },
    {
     "cell_type": "code",
     "collapsed": false,
     "input": [
      "for seccion in articulo.sections:\n",
      "    if seccion.title == \"Altri impegni e collaborazioni\":\n",
      "        print seccion.string"
     ],
     "language": "python",
     "metadata": {},
     "outputs": []
    },
    {
     "cell_type": "markdown",
     "metadata": {},
     "source": [
      "## Twitter\n",
      "\n",
      "Tambi\u00e9n podemos interactuar con Twitter de varias formas diferentes. Lo m\u00e1s sencillo consiste en lanza una e imprimir los mensajes por pantalla. F\u00edjate en que, en este caso, el m\u00e9todo `.search()` devuelve una lista de tweets, y podemos acceder a varias propiedades de estos mensajes, como *author*, *text*, *date*, *url*, *id*, etc"
     ]
    },
    {
     "cell_type": "code",
     "collapsed": false,
     "input": [
      "twitter = Twitter()\n",
      "for tweet in twitter.search(\"aver biene\", start=None, count=10):\n",
      "    print tweet.author, \"->\", tweet.text\n",
      "    print tweet.url, tweet.date\n",
      "    print \"\\n\""
     ],
     "language": "python",
     "metadata": {},
     "outputs": []
    },
    {
     "cell_type": "markdown",
     "metadata": {},
     "source": [
      "Podemos acceder a los *trending topics*, es decir, los temas m\u00e1s comentados en un determinado momento:"
     ]
    },
    {
     "cell_type": "code",
     "collapsed": false,
     "input": [
      "# imprime los Trending Topic actuales \n",
      "for tt in twitter.trends(cached=False):\n",
      "    print tt"
     ],
     "language": "python",
     "metadata": {},
     "outputs": []
    },
    {
     "cell_type": "markdown",
     "metadata": {},
     "source": [
      "Y a partir de estos temas candentes podemos ver en tiempo casi real los mensajes que se publican:"
     ]
    },
    {
     "cell_type": "code",
     "collapsed": false,
     "input": [
      "s = Twitter().stream(\"Pirlo\")\n",
      "for i in range(10):\n",
      "    time.sleep(2) \n",
      "    s.update(bytes=1024)\n",
      "    if s:\n",
      "        print s[-1].text\n",
      "    else:\n",
      "        pass"
     ],
     "language": "python",
     "metadata": {},
     "outputs": []
    },
    {
     "cell_type": "markdown",
     "metadata": {},
     "source": [
      "## Facebook\n",
      "\n",
      "Tambi\u00e9n podemos acceder a los mensajes p\u00fablicos de Facebook. Si configuramos nuestra cuenta podemos acceder a nuestra informaci\u00f3n privada y a la de nuestros contactos, de manera similar a como accemos desde la aplicaci\u00f3n m\u00f3vil o desde el navegador."
     ]
    },
    {
     "cell_type": "code",
     "collapsed": false,
     "input": [
      "fb = Facebook(license=None)\n",
      "for post in fb.search(\"Ling\u00fc\u00edstica\"):\n",
      "    print \"---------------------------------\"\n",
      "    print post.url\n",
      "    print plaintext(post.text)[:500]\n",
      "    print \"\\n\""
     ],
     "language": "python",
     "metadata": {},
     "outputs": []
    },
    {
     "cell_type": "markdown",
     "metadata": {},
     "source": [
      "## Google translate\n",
      "\n"
     ]
    },
    {
     "cell_type": "markdown",
     "metadata": {},
     "source": [
      "[Google Translate](http://translate.google.es/?hl=es) recientemente ha pasado a ser un servicio de pago y ahora no funciona salvo que [obtengamos una *license key*](https://code.google.com/apis/console/) y asociemos a nuestra cuenta una tarjeta de cr\u00e9dito. No es caro: traducir un mill\u00f3n de palabras cuesta $20. \u00bfHacemos un fondo?\n",
      "\n",
      "Llegado el caso, se puede configurar de la siguiente manera."
     ]
    },
    {
     "cell_type": "code",
     "collapsed": false,
     "input": [
      "oracion = \"El perro de San Roque no tiene rabo porque Ram\u00f3n Rodr\u00edguez se lo ha cortado\"\n",
      "google = Google(license=None) \n",
      "print google.translate(oracion, input=\"es\", output=\"en\", cached=False)\n",
      "print google.identify(oracion)"
     ],
     "language": "python",
     "metadata": {},
     "outputs": []
    }
   ],
   "metadata": {}
  }
 ]
}