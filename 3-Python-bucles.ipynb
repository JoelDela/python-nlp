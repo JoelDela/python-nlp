{
 "cells": [
  {
   "cell_type": "markdown",
   "metadata": {},
   "source": [
    "# Bucles\n",
    "\n",
    "Los **bucles** permiten iterar rápidamente una y otra vez sobre una estructura de datos. En Python hay dos tipos de bucles: `for` y `while`.\n",
    "\n"
   ]
  },
  {
   "cell_type": "code",
   "execution_count": null,
   "metadata": {
    "collapsed": false
   },
   "outputs": [],
   "source": [
    "# antes de nada, creo unas cuantas variables con listas para jugar\n",
    "numeros = [1, 2, 3, 4, 5, 6, 7, 8, 9, 10]\n",
    "print(numeros)\n",
    "\n",
    "# fíjate en esta forma nueva de crear una lista a partir de una cadena\n",
    "# el método .split() me permite \"romper\" una cadena en una lista de cadenas\n",
    "# cuando usamos .split() sin más, estamos tokenizando una cadena de texto\n",
    "semana = \"lunes martes miercoles jueves viernes sabado domingo\".split()\n",
    "print(semana)\n",
    "\n",
    "oracion = \"Green colorless ideas sleep furiously\".split()\n",
    "print(oracion)\n",
    "\n",
    "# sin embargo, puedo especificar una subcadena como separador \n",
    "emails = \"sandra@mail.com; ana@mail.com; pepe@mail.es\".split(\"; \")\n",
    "print(emails)"
   ]
  },
  {
   "cell_type": "code",
   "execution_count": null,
   "metadata": {
    "collapsed": false
   },
   "outputs": [],
   "source": [
    "# puedo acceder a los elementos de la lista a través de índices\n",
    "print(\"El tercer número de mi lista es\", numeros[2])\n",
    "print(\"Y el último email es\", emails[-1])"
   ]
  },
  {
   "cell_type": "markdown",
   "metadata": {},
   "source": [
    "Si necesitamos recorrer todos y cada uno de los elementos de la lista, es más sencillo usar un bucle `for`.\n",
    "\n",
    "## Bucles `for`.\n",
    "\n",
    "La instrucción `for` permite recorrer los elementos de cualquier secuencia ordenada de uno en uno y por orden. La sintaxis de un bloque de código `for-in` es la siguiente:\n",
    "\n",
    "    for ELEMENTO in SECUENCIA:\n",
    "        # ejecuta las instrucciones tantas veces como elementos tenga la secuencia\n",
    "        INSTRUCCIONES\n",
    "\n",
    "Las palabras reservadas `for` y `in` son obligatorias. SECUENCIA puede ser cualquier estructuras de datos que sea una secuencia ordenada (por ejemplo, **cadenas**, las **listas** y las **tuplas**). `ELEMENTO` es el con el que designamos cada uno de los elementos de `SECUENCIA`. Ten en cuenta de `ELEMENTO` adopta, en cada paso del bucle, un valor diferente."
   ]
  },
  {
   "cell_type": "code",
   "execution_count": null,
   "metadata": {
    "collapsed": false
   },
   "outputs": [],
   "source": [
    "for n in numeros:\n",
    "    print(\"Voy por el numero\", n)"
   ]
  },
  {
   "cell_type": "code",
   "execution_count": null,
   "metadata": {
    "collapsed": false
   },
   "outputs": [],
   "source": [
    "for dia in semana:\n",
    "    print(\"Me gusta el\", dia)"
   ]
  },
  {
   "cell_type": "code",
   "execution_count": null,
   "metadata": {
    "collapsed": false
   },
   "outputs": [],
   "source": [
    "cajon = [\"una bicicleta\", 234, \"el número pi\", 23, \"un libro\", \"otro libro\"]\n",
    "\n",
    "print(\"Tengo\", len(cajon), \"cosas guardadas en un cajón:\")\n",
    "for elemento in cajon:\n",
    "    print(\"-\", elemento)"
   ]
  },
  {
   "cell_type": "code",
   "execution_count": null,
   "metadata": {
    "collapsed": false
   },
   "outputs": [],
   "source": [
    "alumnos = \"Pepito:Raúl:Ana:Antonio:María\".split(\":\")\n",
    "print(alumnos)\n",
    "\n",
    "\n",
    "if \"Paco\" in alumnos:\n",
    "    print(\"Paco está en clase.\")\n",
    "else:\n",
    "    print(\"Paco no ha venido hoy.\")"
   ]
  },
  {
   "cell_type": "code",
   "execution_count": null,
   "metadata": {
    "collapsed": false
   },
   "outputs": [],
   "source": [
    "for letra in \"abcdefghijklmnopqrstuvwxyz\":\n",
    "    print(letra)"
   ]
  },
  {
   "cell_type": "markdown",
   "metadata": {},
   "source": [
    "## Bucles `while`.\n",
    "\n",
    "La instrucción `while` permite establecer un bucle que repita un conjunto de instrucciones siempre que se dé determinada condición. La sintaxis de un bloque de código `while` es la siguiente:\n",
    "\n",
    "    while CONDICIÓN:\n",
    "        # ejecuta las instrucciones a continuación mientras CONDICIÓN sea verdadera\n",
    "        INSTRUCCIONES\n",
    "\n",
    "Apenas la vamos a utilizar, pero sirva el siguiente ejemplo para ilustrar su uso."
   ]
  },
  {
   "cell_type": "code",
   "execution_count": null,
   "metadata": {
    "collapsed": false
   },
   "outputs": [],
   "source": [
    "numero = 1\n",
    "limite = 5\n",
    "\n",
    "while numero <= limite:\n",
    "    print(\"El número\", numero, \"es menor o igual que\", limite)\n",
    "    numero = numero + 1"
   ]
  }
 ],
 "metadata": {
  "kernelspec": {
   "display_name": "Python 3",
   "language": "python",
   "name": "python3"
  },
  "language_info": {
   "codemirror_mode": {
    "name": "ipython",
    "version": 3
   },
   "file_extension": ".py",
   "mimetype": "text/x-python",
   "name": "python",
   "nbconvert_exporter": "python",
   "pygments_lexer": "ipython3",
   "version": "3.4.3+"
  }
 },
 "nbformat": 4,
 "nbformat_minor": 0
}
