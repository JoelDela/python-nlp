{
 "metadata": {
  "name": "",
  "signature": "sha256:43508e7664a97c3640e2599b05adacfc5d6617e7e29feb74735e7a241a110595"
 },
 "nbformat": 3,
 "nbformat_minor": 0,
 "worksheets": [
  {
   "cells": [
    {
     "cell_type": "markdown",
     "metadata": {},
     "source": [
      "# Resumen NLTK: Acceso a corpus de texto y recursos l\u00e9xicos\n",
      "\n",
      "Este resumen se corresponde con el cap\u00edtulo 2 del NLTK Book [Accessing Text Corpora and Lexical Resources](http://www.nltk.org/book_1ed/ch02.htmll). La lectura del cap\u00edtulo es muy recomendable.\n",
      "\n",
      "\n",
      "## Corpus no anotados: el Proyecto Gutenberg\n",
      "\n",
      "NLTK no da acceso directo a varias colecciones de textos. Para empezar, vamos a juguetear un poco con los libros del [Proyecto Gutenberg](http://www.gutenberg.org), un repositorio p\u00fablico de libros libres y/o sin derechos de copyright en vigor.\n",
      "Antes de nada, necesitamos importar el m\u00f3dulo `gutenberg` que est\u00e1 en la librer\u00eda `nltk.corpus`."
     ]
    },
    {
     "cell_type": "code",
     "collapsed": true,
     "input": [
      "from nltk.corpus import gutenberg\n",
      "from __future__ import division"
     ],
     "language": "python",
     "metadata": {},
     "outputs": [],
     "prompt_number": 1
    },
    {
     "cell_type": "markdown",
     "metadata": {},
     "source": [
      "Podemos listar el cat\u00e1alogo de libros del Proyecto Gutenberg disponibles desde NLTK a trav\u00e9s del m\u00e9todo `nltk.corpus.gutenberg.fileids`"
     ]
    },
    {
     "cell_type": "code",
     "collapsed": false,
     "input": [
      "print gutenberg.fileids()"
     ],
     "language": "python",
     "metadata": {},
     "outputs": [
      {
       "output_type": "stream",
       "stream": "stdout",
       "text": [
        "['austen-emma.txt', 'austen-persuasion.txt', 'austen-sense.txt', 'bible-kjv.txt', 'blake-poems.txt', 'bryant-stories.txt', 'burgess-busterbrown.txt', 'carroll-alice.txt', 'chesterton-ball.txt', 'chesterton-brown.txt', 'chesterton-thursday.txt', 'edgeworth-parents.txt', 'melville-moby_dick.txt', 'milton-paradise.txt', 'shakespeare-caesar.txt', 'shakespeare-hamlet.txt', 'shakespeare-macbeth.txt', 'whitman-leaves.txt']\n"
       ]
      }
     ],
     "prompt_number": 2
    },
    {
     "cell_type": "markdown",
     "metadata": {},
     "source": [
      "Para cargar alguno de estos libros en variables y poder manipularlos directamente, podemos utilizar varios m\u00e9todos.\n",
      "\n",
      "- `gutenberg.raw` recupera el texto como una \u00fanica cadena de caracteres.\n",
      "- `gutenberg.words` recupera el texto tokenizado en palabras. El m\u00e9todo devuelve una lista palabras.\n",
      "- `gutenberg.sents` recupera el texto segmentado por oraciones. El m\u00e9todo devuelve una lista de oraciones. Cada oraci\u00f3n es a su vez una lista de palabras.\n",
      "- `gutenberg.paras` recupera el texto  segmentado por p\u00e1rrafos. El m\u00e9todo devuelve una lista de p\u00e1rrafos.  Cada p\u00e1rrafo es una lista de oraciones, cada oraci\u00f3n es a su vez una lista de palabras."
     ]
    },
    {
     "cell_type": "code",
     "collapsed": false,
     "input": [
      "# cargo la vesi\u00f3n 'cruda' de un par de libros. Como son libros del Proyecto Gutenberg, se trata de ficheros en texto plano\n",
      "alice = gutenberg.raw(\"carroll-alice.txt\")\n",
      "print alice[:200] # imprimo los primeros 200 caracteres del libro de Alicia\n",
      "\n",
      "bible = gutenberg.raw(\"bible-kjv.txt\")\n",
      "print bible[:200] # imprimo los primeros 200 caracteres de la Biblia"
     ],
     "language": "python",
     "metadata": {},
     "outputs": [
      {
       "output_type": "stream",
       "stream": "stdout",
       "text": [
        "[Alice's Adventures in Wonderland by Lewis Carroll 1865]\n",
        "\n",
        "CHAPTER I. Down the Rabbit-Hole\n",
        "\n",
        "Alice was beginning to get very tired of sitting by her sister on the\n",
        "bank, and of having nothing to do: once\n",
        "[The King James Bible]\n",
        "\n",
        "The Old Testament of the King James Bible\n",
        "\n",
        "The First Book of Moses:  Called Genesis\n",
        "\n",
        "\n",
        "1:1 In the beginning God created the heaven and the earth.\n",
        "\n",
        "1:2 And the earth was without "
       ]
      },
      {
       "output_type": "stream",
       "stream": "stdout",
       "text": [
        "\n"
       ]
      }
     ],
     "prompt_number": 3
    },
    {
     "cell_type": "code",
     "collapsed": false,
     "input": [
      "# segmentamos el texto en palabras teniendo en cuenta los espacios \n",
      "bible_tokens = bible.split()\n",
      "# cargamos la versi\u00f3n de la Biblia segmentado en palabras\n",
      "bible_words = gutenberg.words(\"bible-kjv.txt\")\n",
      "\n",
      "# no da el mismo n\u00famero de tokens\n",
      "print len(bible_tokens), len(bible_words)\n",
      "\n",
      "print bible_tokens[:100]\n",
      "print \"-----------------------------------------------\"\n",
      "print bible_words[:100]"
     ],
     "language": "python",
     "metadata": {},
     "outputs": [
      {
       "output_type": "stream",
       "stream": "stdout",
       "text": [
        "821133 "
       ]
      },
      {
       "output_type": "stream",
       "stream": "stdout",
       "text": [
        "1010654\n",
        "['[The', 'King', 'James', 'Bible]', 'The', 'Old', 'Testament', 'of', 'the', 'King', 'James', 'Bible', 'The', 'First', 'Book', 'of', 'Moses:', 'Called', 'Genesis', '1:1', 'In', 'the', 'beginning', 'God', 'created', 'the', 'heaven', 'and', 'the', 'earth.', '1:2', 'And', 'the', 'earth', 'was', 'without', 'form,', 'and', 'void;', 'and', 'darkness', 'was', 'upon', 'the', 'face', 'of', 'the', 'deep.', 'And', 'the', 'Spirit', 'of', 'God', 'moved', 'upon', 'the', 'face', 'of', 'the', 'waters.', '1:3', 'And', 'God', 'said,', 'Let', 'there', 'be', 'light:', 'and', 'there', 'was', 'light.', '1:4', 'And', 'God', 'saw', 'the', 'light,', 'that', 'it', 'was', 'good:', 'and', 'God', 'divided', 'the', 'light', 'from', 'the', 'darkness.', '1:5', 'And', 'God', 'called', 'the', 'light', 'Day,', 'and', 'the', 'darkness']\n",
        "-----------------------------------------------\n",
        "['[', 'The', 'King', 'James', 'Bible', ']', 'The', 'Old', 'Testament', 'of', 'the', 'King', 'James', 'Bible', 'The', 'First', 'Book', 'of', 'Moses', ':', 'Called', 'Genesis', '1', ':', '1', 'In', 'the', 'beginning', 'God', 'created', 'the', 'heaven', 'and', 'the', 'earth', '.', '1', ':', '2', 'And', 'the', 'earth', 'was', 'without', 'form', ',', 'and', 'void', ';', 'and', 'darkness', 'was', 'upon', 'the', 'face', 'of', 'the', 'deep', '.', 'And', 'the', 'Spirit', 'of', 'God', 'moved', 'upon', 'the', 'face', 'of', 'the', 'waters', '.', '1', ':', '3', 'And', 'God', 'said', ',', 'Let', 'there', 'be', 'light', ':', 'and', 'there', 'was', 'light', '.', '1', ':', '4', 'And', 'God', 'saw', 'the', 'light', ',', 'that', 'it']\n"
       ]
      }
     ],
     "prompt_number": 4
    },
    {
     "cell_type": "code",
     "collapsed": false,
     "input": [
      "# cargo la versi\u00f3n de Alicia segmentada en palabras\n",
      "alice_words = gutenberg.words(\"carroll-alice.txt\")\n",
      "print alice_words[:20] # imprimo las primeros 20 palabras\n",
      "print len(alice_words)"
     ],
     "language": "python",
     "metadata": {},
     "outputs": [
      {
       "output_type": "stream",
       "stream": "stdout",
       "text": [
        "['[', 'Alice', \"'\", 's', 'Adventures', 'in', 'Wonderland', 'by', 'Lewis', 'Carroll', '1865', ']', 'CHAPTER', 'I', '.', 'Down', 'the', 'Rabbit', '-', 'Hole']\n",
        "34110\n"
       ]
      }
     ],
     "prompt_number": 5
    },
    {
     "cell_type": "code",
     "collapsed": false,
     "input": [
      "# cargo la versi\u00f3n de Alicia segmentada en oraciones\n",
      "alice_sents = gutenberg.sents(\"carroll-alice.txt\")\n",
      "print \"Alice tiene\", len(alice_sents), \"oraciones\"\n",
      "print alice_sents[2:5] # imprimo la tercera, cuarta y quinta oraci\u00f3n"
     ],
     "language": "python",
     "metadata": {},
     "outputs": [
      {
       "output_type": "stream",
       "stream": "stdout",
       "text": [
        "Alice tiene "
       ]
      },
      {
       "output_type": "stream",
       "stream": "stdout",
       "text": [
        "2026 oraciones\n",
        "[['Down', 'the', 'Rabbit', '-', 'Hole'], ['Alice', 'was', 'beginning', 'to', 'get', 'very', 'tired', 'of', 'sitting', 'by', 'her', 'sister', 'on', 'the', 'bank', ',', 'and', 'of', 'having', 'nothing', 'to', 'do', ':', 'once', 'or', 'twice', 'she', 'had', 'peeped', 'into', 'the', 'book', 'her', 'sister', 'was', 'reading', ',', 'but', 'it', 'had', 'no', 'pictures', 'or', 'conversations', 'in', 'it', ',', \"'\", 'and', 'what', 'is', 'the', 'use', 'of', 'a', 'book', \",'\", 'thought', 'Alice', \"'\", 'without', 'pictures', 'or', 'conversation', '?'], [\"'\"]]\n"
       ]
      }
     ],
     "prompt_number": 6
    },
    {
     "cell_type": "code",
     "collapsed": false,
     "input": [
      "# cargo la versi\u00f3n de Alicia segmentada en p\u00e1rrafos\n",
      "alice_paras = gutenberg.paras(\"carroll-alice.txt\")\n",
      "print \"Alice tiene\", len(alice_paras), \"p\u00e1rrafos\"\n",
      "\n",
      "# imprimo los cinco primeros\n",
      "for para in alice_paras[:5]:\n",
      "    print para\n",
      "    print \"-------------------\""
     ],
     "language": "python",
     "metadata": {},
     "outputs": [
      {
       "output_type": "stream",
       "stream": "stdout",
       "text": [
        "Alice tiene "
       ]
      },
      {
       "output_type": "stream",
       "stream": "stdout",
       "text": [
        "817 p\u00e1rrafos\n",
        "[['[', 'Alice', \"'\", 's', 'Adventures', 'in', 'Wonderland', 'by', 'Lewis', 'Carroll', '1865', ']']]\n",
        "-------------------\n",
        "[['CHAPTER', 'I', '.'], ['Down', 'the', 'Rabbit', '-', 'Hole']]\n",
        "-------------------\n",
        "[['Alice', 'was', 'beginning', 'to', 'get', 'very', 'tired', 'of', 'sitting', 'by', 'her', 'sister', 'on', 'the', 'bank', ',', 'and', 'of', 'having', 'nothing', 'to', 'do', ':', 'once', 'or', 'twice', 'she', 'had', 'peeped', 'into', 'the', 'book', 'her', 'sister', 'was', 'reading', ',', 'but', 'it', 'had', 'no', 'pictures', 'or', 'conversations', 'in', 'it', ',', \"'\", 'and', 'what', 'is', 'the', 'use', 'of', 'a', 'book', \",'\", 'thought', 'Alice', \"'\", 'without', 'pictures', 'or', 'conversation', '?'], [\"'\"]]\n",
        "-------------------\n",
        "[['So', 'she', 'was', 'considering', 'in', 'her', 'own', 'mind', '(', 'as', 'well', 'as', 'she', 'could', ',', 'for', 'the', 'hot', 'day', 'made', 'her', 'feel', 'very', 'sleepy', 'and', 'stupid', '),', 'whether', 'the', 'pleasure', 'of', 'making', 'a', 'daisy', '-', 'chain', 'would', 'be', 'worth', 'the', 'trouble', 'of', 'getting', 'up', 'and', 'picking', 'the', 'daisies', ',', 'when', 'suddenly', 'a', 'White', 'Rabbit', 'with', 'pink', 'eyes', 'ran', 'close', 'by', 'her', '.']]\n",
        "-------------------\n",
        "[['There', 'was', 'nothing', 'so', 'VERY', 'remarkable', 'in', 'that', ';', 'nor', 'did', 'Alice', 'think', 'it', 'so', 'VERY', 'much', 'out', 'of', 'the', 'way', 'to', 'hear', 'the', 'Rabbit', 'say', 'to', 'itself', ',', \"'\", 'Oh', 'dear', '!'], ['Oh', 'dear', '!'], ['I', 'shall', 'be', 'late', '!'], [\"'\", '(', 'when', 'she', 'thought', 'it', 'over', 'afterwards', ',', 'it', 'occurred', 'to', 'her', 'that', 'she', 'ought', 'to', 'have', 'wondered', 'at', 'this', ',', 'but', 'at', 'the', 'time', 'it', 'all', 'seemed', 'quite', 'natural', ');', 'but', 'when', 'the', 'Rabbit', 'actually', 'TOOK', 'A', 'WATCH', 'OUT', 'OF', 'ITS', 'WAISTCOAT', '-', 'POCKET', ',', 'and', 'looked', 'at', 'it', ',', 'and', 'then', 'hurried', 'on', ',', 'Alice', 'started', 'to', 'her', 'feet', ',', 'for', 'it', 'flashed', 'across', 'her', 'mind', 'that', 'she', 'had', 'never', 'before', 'seen', 'a', 'rabbit', 'with', 'either', 'a', 'waistcoat', '-', 'pocket', ',', 'or', 'a', 'watch', 'to', 'take', 'out', 'of', 'it', ',', 'and', 'burning', 'with', 'curiosity', ',', 'she', 'ran', 'across', 'the', 'field', 'after', 'it', ',', 'and', 'fortunately', 'was', 'just', 'in', 'time', 'to', 'see', 'it', 'pop', 'down', 'a', 'large', 'rabbit', '-', 'hole', 'under', 'the', 'hedge', '.']]\n",
        "-------------------\n"
       ]
      }
     ],
     "prompt_number": 7
    },
    {
     "cell_type": "markdown",
     "metadata": {},
     "source": [
      "F\u00edjate en que cada m\u00e9todo devuelve una estructura de datos diferente: desde una \u00fanica cadena a listas de listas anidadas. Para que tengas claro las dimensiones de cada uno, podemos imprimir el n\u00famero de caracteres, palabras, oraciones y p\u00e1rrafos del libro. "
     ]
    },
    {
     "cell_type": "code",
     "collapsed": false,
     "input": [
      "print len(alice), \"caracteres\" \n",
      "print len(alice_words), \"palabras\"\n",
      "print len(alice_sents), \"oraciones\"\n",
      "print len(alice_paras), \"p\u00e1rrafos\""
     ],
     "language": "python",
     "metadata": {},
     "outputs": [
      {
       "output_type": "stream",
       "stream": "stdout",
       "text": [
        "144395 caracteres\n",
        "34110 palabras\n",
        "2026 oraciones\n",
        "817 p\u00e1rrafos\n"
       ]
      }
     ],
     "prompt_number": 8
    },
    {
     "cell_type": "markdown",
     "metadata": {},
     "source": [
      "Vamos a imprimir algunas estad\u00edsticas para todos los libros del Proyecto Gutenberg disponibles. Para cada libro, impriremos por pantalla el promedio de caracteres por palabra, el promedio de palabras por oraci\u00f3n y el promedio de oraciones por p\u00e1rrafo."
     ]
    },
    {
     "cell_type": "code",
     "collapsed": false,
     "input": [
      "# para cada libro que est\u00e1 disponible en el objeto gutenberg\n",
      "for libro in gutenberg.fileids():\n",
      "    caracteres = len(gutenberg.raw(libro))\n",
      "    palabras = len(gutenberg.words(libro))\n",
      "    oraciones = len(gutenberg.sents(libro))\n",
      "    parrafos = len(gutenberg.paras(libro))\n",
      "    print libro[:-4], \"\\t\", round(caracteres/palabras, 2), \"\\t\", round(palabras/oraciones, 2), \"\\t\", round(oraciones/parrafos, 2)"
     ],
     "language": "python",
     "metadata": {},
     "outputs": [
      {
       "output_type": "stream",
       "stream": "stdout",
       "text": [
        "austen-emma \t4.61 \t21.12 \t3.84\n",
        "austen-persuasion"
       ]
      },
      {
       "output_type": "stream",
       "stream": "stdout",
       "text": [
        " \t4.75 \t23.53 \t4.04\n",
        "austen-sense"
       ]
      },
      {
       "output_type": "stream",
       "stream": "stdout",
       "text": [
        " \t4.75 \t23.89 \t3.18\n",
        "bible-kjv"
       ]
      },
      {
       "output_type": "stream",
       "stream": "stdout",
       "text": [
        " \t4.29 \t33.57 \t1.22\n",
        "blake-poems"
       ]
      },
      {
       "output_type": "stream",
       "stream": "stdout",
       "text": [
        " \t4.57 \t18.28 \t1.61\n",
        "bryant-stories"
       ]
      },
      {
       "output_type": "stream",
       "stream": "stdout",
       "text": [
        " \t4.49 \t17.27 \t2.7\n",
        "burgess-busterbrown"
       ]
      },
      {
       "output_type": "stream",
       "stream": "stdout",
       "text": [
        " \t4.46 \t17.07 \t4.18\n",
        "carroll-alice"
       ]
      },
      {
       "output_type": "stream",
       "stream": "stdout",
       "text": [
        " \t4.23 \t16.84 \t2.48\n",
        "chesterton-ball"
       ]
      },
      {
       "output_type": "stream",
       "stream": "stdout",
       "text": [
        " \t4.72 \t17.75 \t3.4\n",
        "chesterton-brown"
       ]
      },
      {
       "output_type": "stream",
       "stream": "stdout",
       "text": [
        " \t4.72 \t19.67 \t3.77\n",
        "chesterton-thursday"
       ]
      },
      {
       "output_type": "stream",
       "stream": "stdout",
       "text": [
        " \t4.63 \t16.12 \t3.33\n",
        "edgeworth-parents"
       ]
      },
      {
       "output_type": "stream",
       "stream": "stdout",
       "text": [
        " \t4.44 \t17.62 \t3.21\n",
        "melville-moby_dick"
       ]
      },
      {
       "output_type": "stream",
       "stream": "stdout",
       "text": [
        " \t4.77 \t24.16 \t3.87\n",
        "milton-paradise"
       ]
      },
      {
       "output_type": "stream",
       "stream": "stdout",
       "text": [
        " \t4.84 \t52.31 \t63.83\n",
        "shakespeare-caesar"
       ]
      },
      {
       "output_type": "stream",
       "stream": "stdout",
       "text": [
        " \t4.35 \t11.94 \t2.91\n",
        "shakespeare-hamlet"
       ]
      },
      {
       "output_type": "stream",
       "stream": "stdout",
       "text": [
        " \t4.36 \t12.03 \t3.27\n",
        "shakespeare-macbeth"
       ]
      },
      {
       "output_type": "stream",
       "stream": "stdout",
       "text": [
        " \t4.34 \t12.13 \t2.81\n",
        "whitman-leaves"
       ]
      },
      {
       "output_type": "stream",
       "stream": "stdout",
       "text": [
        " \t4.59 \t35.26 \t1.77\n"
       ]
      }
     ],
     "prompt_number": 9
    },
    {
     "cell_type": "markdown",
     "metadata": {},
     "source": [
      "El m\u00f3dulo `nltk.corpus` permite acceder a otras colecciones de textos en otras lenguas ([lista completa aqu\u00ed](http://www.nltk.org/book_1ed/ch02.html#tab-corpora)). Vamos a probar con un corpus de noticias en castellano llamado `cess_esp` que incluye anotaci\u00f3n morfo-sint\u00e1ctica."
     ]
    },
    {
     "cell_type": "code",
     "collapsed": false,
     "input": [
      "from nltk.corpus import cess_esp\n",
      "\n",
      "# la versi\u00f3n en crudo de este corpus contiene informaci\u00f3n morfosint\u00e1ctica con un formato que todav\u00eda no conocemos.\n",
      "# en este caso, pasamos directamente a trabajar con los textos segmentados\n",
      "\n",
      "# cargo el primer documento del corpus segmentado en palabras\n",
      "palabras = cess_esp.words(cess_esp.fileids()[0])\n",
      "print palabras[:50]\n",
      "\n",
      "print \"----------------------\"\n",
      "\n",
      "# y segmentado en oraciones\n",
      "oraciones = cess_esp.sents(cess_esp.fileids()[0])\n",
      "print oraciones[:5]"
     ],
     "language": "python",
     "metadata": {},
     "outputs": [
      {
       "output_type": "stream",
       "stream": "stdout",
       "text": [
        "['El', 'grupo', 'estatal', 'Electricit\\xe9_de_France', '-Fpa-', 'EDF', '-Fpt-', 'anunci\\xf3', 'hoy', ',', 'jueves', ',', 'la', 'compra', 'del', '51_por_ciento', 'de', 'la', 'empresa', 'mexicana', 'Electricidad_\\xc1guila_de_Altamira', '-Fpa-', 'EAA', '-Fpt-', ',', 'creada', 'por', 'el', 'japon\\xe9s', 'Mitsubishi_Corporation', 'para', 'poner_en_marcha', 'una', 'central', 'de', 'gas', 'de', '495', 'megavatios', '.', 'Una', 'portavoz', 'de', 'EDF', 'explic\\xf3', 'a', 'EFE', 'que', 'el', 'proyecto']\n",
        "----------------------\n",
        "[['El', 'grupo', 'estatal', 'Electricit\\xe9_de_France', '-Fpa-', 'EDF', '-Fpt-', 'anunci\\xf3', 'hoy', ',', 'jueves', ',', 'la', 'compra', 'del', '51_por_ciento', 'de', 'la', 'empresa', 'mexicana', 'Electricidad_\\xc1guila_de_Altamira', '-Fpa-', 'EAA', '-Fpt-', ',', 'creada', 'por', 'el', 'japon\\xe9s', 'Mitsubishi_Corporation', 'para', 'poner_en_marcha', 'una', 'central', 'de', 'gas', 'de', '495', 'megavatios', '.'], ['Una', 'portavoz', 'de', 'EDF', 'explic\\xf3', 'a', 'EFE', 'que', 'el', 'proyecto', 'para', 'la', 'construcci\\xf3n', 'de', 'Altamira_2', ',', 'al', 'norte', 'de', 'Tampico', ',', 'prev\\xe9', 'la', 'utilizaci\\xf3n', 'de', 'gas', 'natural', 'como', 'combustible', 'principal', 'en', 'una', 'central', 'de', 'ciclo', 'combinado', 'que', 'debe', 'empezar', 'a', 'funcionar', 'en', 'mayo_del_2002', '.'], ['La', 'electricidad', 'producida', 'pasar\\xe1', 'a', 'la', 'red', 'el\\xe9ctrica', 'p\\xfablica', 'de', 'M\\xe9xico', 'en_virtud_de', 'un', 'acuerdo', 'de', 'venta', 'de', 'energ\\xeda', 'de', 'EAA', 'con', 'la', 'Comisi\\xf3n_Federal_de_Electricidad', '-Fpa-', 'CFE', '-Fpt-', 'por', 'una', 'duraci\\xf3n', 'de', '25', 'a\\xf1os', '.'], ['EDF', ',', 'que', 'no', 'quiso', 'revelar', 'cu\\xe1nto', '*0*', 'pag\\xf3', 'por', 'su', 'participaci\\xf3n', 'mayoritaria', 'en', 'EAA', ',', 'intervendr\\xe1', 'como', 'asistente', 'en', 'la', 'construcci\\xf3n', 'de', 'Altamira_2', 'y', ',', 'posteriormente', ',', '*0*', 'se', 'encargar\\xe1', 'de', 'explotarla', 'como', 'principal', 'accionista', '.'], ['EDF', 'y', 'Mitsubishi', 'participaron', 'en', '1998', 'en', 'la', 'licitaci\\xf3n', 'de', 'licencias', 'para', 'construir', 'centrales', 'el\\xe9ctricas', 'en', 'M\\xe9xico', 'y', '*0*', 'se', 'quedaron', 'con', 'dos', 'cada', 'una', ':', 'R\\xedo_Bravo', 'y', 'Saltillo', 'para', 'la', 'compa\\xf1\\xeda', 'francesa', 'y', 'Altamira', 'y', 'Tuxp\\xe1n', 'para', 'la', 'japonesa', '.']]\n"
       ]
      }
     ],
     "prompt_number": 11
    },
    {
     "cell_type": "markdown",
     "metadata": {},
     "source": [
      "De manera similar a como hemos hecho sacando estad\u00edsticias de las obras disponibles en el corpus `gutenberg`, vamos a calcular la longitud promedio de palabras y el n\u00famero de palabras promedio por oraci\u00f3n, para los diez primeros documentos de este corpus `cess_esp`. \n",
      "\n",
      "F\u00edjate en la estructura de este ejemplo: contiene bucles anidados."
     ]
    },
    {
     "cell_type": "code",
     "collapsed": false,
     "input": [
      "# para cada documento que est\u00e1 entre los 10 primeros del corpus\n",
      "for documento in cess_esp.fileids()[:10]:    \n",
      "    # carga el texto segmentado en palabras\n",
      "    palabras = cess_esp.words(documento)\n",
      "    # y en oraciones\n",
      "    oraciones = cess_esp.sents(documento)\n",
      "    \n",
      "    # pon el contador de caracteres a 0\n",
      "    caracteres = 0    \n",
      "    # para cada palabra dentro de la lista de palabras del documento\n",
      "    for palabra in palabras:\n",
      "        # ve sumando al contador el n\u00famero de caracteres que tiene la palabra en cuesti\u00f3n\n",
      "        caracteres = caracteres + len(palabra)\n",
      "    \n",
      "    # cuando hayas terminado, divide la longitud total del texto entre el n\u00famero de palabras\n",
      "    longitud_promedio = caracteres / len(palabras)\n",
      "    \n",
      "    # imprime el nombre del documento, la longitud de la palabra y el n\u00famero de palabras por oraci\u00f3n\n",
      "    print documento[:-4], \"\\t\", round(longitud_promedio, 2), \"\\t\", round(len(palabras)/len(oraciones), 2)"
     ],
     "language": "python",
     "metadata": {},
     "outputs": [
      {
       "output_type": "stream",
       "stream": "stdout",
       "text": [
        "10017_20000413 \t5.04 \t42.17\n",
        "10044_20000313 \t4.27 \t47.63\n",
        "10049_20001114"
       ]
      },
      {
       "output_type": "stream",
       "stream": "stdout",
       "text": [
        " \t5.84 \t31.11\n",
        "10055_20000713"
       ]
      },
      {
       "output_type": "stream",
       "stream": "stdout",
       "text": [
        " \t4.98 \t30.89\n",
        "10080_20000914 \t4.6 \t34.0\n",
        "10084_20000313_1 \t4.54 \t42.36\n",
        "10084_20000313_2 \t4.71 \t24.0\n",
        "10127_20001013_1 \t4.63 \t40.1\n",
        "10127_20001013_2"
       ]
      },
      {
       "output_type": "stream",
       "stream": "stdout",
       "text": [
        " \t4.71 \t32.1\n",
        "10127_20001013_3 \t4.72 \t35.29\n"
       ]
      }
     ],
     "prompt_number": 12
    },
    {
     "cell_type": "markdown",
     "metadata": {},
     "source": [
      "Los libros del Proyecto Gutenberg constituyen el tipo de corpus m\u00e1s sencillo: no est\u00e1 anotado (no incluye ning\u00fan tipo de informaci\u00f3n ling\u00fc\u00edstica) ni categorizado. \n",
      "\n",
      "## Corpus categorizados y anotados: el Corpus de Brown\n",
      "\n",
      "El Corpus de Brown fue el primer gran corpus orientado a tareas de PLN. Desarrollado en la Universidad de Brown, contiene m\u00e1s de un mill\u00f3n de palabras provenientes de 500 fuentes.  La principal catacter\u00edstica de este corpus es que sus textos est\u00e1n categorizados por g\u00e9nero. "
     ]
    },
    {
     "cell_type": "code",
     "collapsed": true,
     "input": [
      "from nltk.corpus import brown"
     ],
     "language": "python",
     "metadata": {},
     "outputs": []
    },
    {
     "cell_type": "markdown",
     "metadata": {},
     "source": [
      "Como en los libros del Proyecto Gutenberg, aqu\u00ed tambi\u00e9n podemos imprimir los nombres de los ficheros. En este caso son poco significativos, nos nos dicen nada del contenido."
     ]
    },
    {
     "cell_type": "code",
     "collapsed": false,
     "input": [
      "print len(brown.fileids())\n",
      "print brown.fileids()[:10] # Brown est\u00e1 formado por 500 documentos, \n",
      "# imprimimos solos los 10 primeros"
     ],
     "language": "python",
     "metadata": {},
     "outputs": []
    },
    {
     "cell_type": "markdown",
     "metadata": {},
     "source": [
      "Sin embargo, este corpus est\u00e1 categorizado: los textos est\u00e1n agrupados seg\u00fan su tem\u00e1tica. Y en este caso, los nombres de las categor\u00edas s\u00ed nos permiten intuir el contenido de los textos."
     ]
    },
    {
     "cell_type": "code",
     "collapsed": false,
     "input": [
      "print brown.categories()"
     ],
     "language": "python",
     "metadata": {},
     "outputs": []
    },
    {
     "cell_type": "markdown",
     "metadata": {},
     "source": [
      "De manera similar a los libros del Proyecto Gutenberg, podemos acceder a los textos de este corpus a trav\u00e9s de los m\u00e9todos `brown.raw`, `brown.words`, `brown.sents` y `brown.paras`. Adem\u00e1s, podemos acceder a una categor\u00eda de textos concretas si lo especificamos como argumento."
     ]
    },
    {
     "cell_type": "code",
     "collapsed": true,
     "input": [
      "news_words = brown.words(categories=\"news\")\n",
      "scifi_sents = brown.sents(categories=\"science_fiction\") "
     ],
     "language": "python",
     "metadata": {},
     "outputs": []
    },
    {
     "cell_type": "code",
     "collapsed": false,
     "input": [
      "print news_words[:20]"
     ],
     "language": "python",
     "metadata": {},
     "outputs": []
    },
    {
     "cell_type": "code",
     "collapsed": false,
     "input": [
      "print scifi_sents[:3]"
     ],
     "language": "python",
     "metadata": {},
     "outputs": []
    },
    {
     "cell_type": "markdown",
     "metadata": {},
     "source": [
      "Vamos a sacar provecho de la categorizaci\u00f3n de los textos de este corpus. Para ello, vamos a calcular la frecuencia de distribuci\u00f3n de distintos verbos modales para cada categor\u00eda. Para ello vamos a calcular una distribuci\u00f3n de frecuencia condicional que calcule la frecuencia de cada palabra para cada categor\u00eda.\n",
      "\n",
      "No te preocupes si no entiendes la sintaxis para calcular `cfd` a trav\u00e9s del objeto `ConditionalFreqDist`. Cr\u00e9eme, ese objeto calcula frecuencias de palabras atendiendo a la categor\u00eda en la que aparecen. "
     ]
    },
    {
     "cell_type": "code",
     "collapsed": true,
     "input": [
      "from nltk import ConditionalFreqDist\n",
      "modals = \"can could would should must may might\".split()\n",
      "modals_cfd = ConditionalFreqDist(\n",
      "                          (category, word) \n",
      "                          for category in brown.categories() \n",
      "                          for word in brown.words(categories=category))"
     ],
     "language": "python",
     "metadata": {},
     "outputs": []
    },
    {
     "cell_type": "markdown",
     "metadata": {},
     "source": [
      "Una vez tenemos calculada la frecuencia de distribuci\u00f3n condicional, podemos pintar los valores f\u00e1cilmente en forma de tabla a trav\u00e9s del m\u00e9todo `.tabulate`, especificando como condiciones cada una de las categor\u00edas, y como muestras los verbos modales del ingl\u00e9s que hemos definido."
     ]
    },
    {
     "cell_type": "code",
     "collapsed": false,
     "input": [
      "modals_cfd.tabulate(conditions=brown.categories(), samples=modals)"
     ],
     "language": "python",
     "metadata": {},
     "outputs": []
    },
    {
     "cell_type": "markdown",
     "metadata": {},
     "source": [
      "Tambi\u00e9n podemos representar la distribuci\u00f3n de los verbos modales en forma de gr\u00e1fica, utilizando el m\u00e9todo `.plot`."
     ]
    },
    {
     "cell_type": "code",
     "collapsed": false,
     "input": [
      "%pylab inline\n",
      "modals_cfd.plot(conditions=[\"news\", \"science_fiction\", \"hobbies\", \n",
      "                            \"belles_lettres\", \"learned\"], samples=modals)"
     ],
     "language": "python",
     "metadata": {},
     "outputs": []
    },
    {
     "cell_type": "markdown",
     "metadata": {},
     "source": [
      "El corpus de Brown no solo est\u00e1 categor\u00edzado, tambi\u00e9n est\u00e1 anotado con informaci\u00f3n morfol\u00f3gica. Para acceder a la versi\u00f3n anotada del corpus, podemos utilizar los m\u00e9todos: `brown.tagged_words`, `brown.tagged_sents` y `brown.tagged_\n",
      "paras`"
     ]
    },
    {
     "cell_type": "code",
     "collapsed": false,
     "input": [
      "scifi_tagged_words = brown.tagged_words(categories=\"science_fiction\")\n",
      "print scifi_tagged_words[:20]"
     ],
     "language": "python",
     "metadata": {},
     "outputs": []
    },
    {
     "cell_type": "markdown",
     "metadata": {},
     "source": [
      "F\u00edjate que cuando accedemos a la versi\u00f3n etiquetada del corpus, no obtenemos una simple lista de palabras sino una lista de tuplas, donde el primer elemento es la palabra en cuesti\u00f3n u el segundo es la etiqueta que indica la categor\u00eda gramatical de la palabra.\n",
      "\n",
      "Este conjunto etiquetas se ha convertido en casi un est\u00e1ndar para el ingl\u00e9s y se utilizan habitualmente para anotar cualquier recurso ling\u00fc\u00edstico en esa lengua.\n",
      "\n",
      "Vamos a crear una nueva frecuencia de distribuci\u00f3n condicional para calcular la frecuencia de aparici\u00f3n de las etiquetas, teniendo en cuenta la categor\u00eda."
     ]
    },
    {
     "cell_type": "code",
     "collapsed": true,
     "input": [
      "tags_cfd = ConditionalFreqDist(\n",
      "                              (category, item[1])\n",
      "                              for category in brown.categories()\n",
      "                              for item in brown.tagged_words(categories=category)\n",
      "                              )"
     ],
     "language": "python",
     "metadata": {},
     "outputs": []
    },
    {
     "cell_type": "markdown",
     "metadata": {},
     "source": [
      "Y ahora vamos a imprimir la tabla de frecuencias para cada categor\u00eda y para algunas de las etiquetas morfol\u00f3gicas: sustantivos en singular `NN`, verbos en presente `VB`, verbos en pasado simple `VBD`, participios pasados `VBN`, adjetivos `JJ`, preposiciones `IN`, y art\u00edculos `AT`. Estas cifras no son directamente comparables entre categor\u00edas, ya que \u00e9stas no est\u00e1n equilibradas: hay categor\u00edas con m\u00e1s textos que otras."
     ]
    },
    {
     "cell_type": "code",
     "collapsed": false,
     "input": [
      "tags_cfd.tabulate(conditions=brown.categories(), \n",
      "                  samples=\"NN VB VBD VBN JJ IN AT\".split())"
     ],
     "language": "python",
     "metadata": {},
     "outputs": []
    },
    {
     "cell_type": "markdown",
     "metadata": {},
     "source": [
      "## Recursos L\u00e9xicos: WordNet\n",
      "\n",
      "Wordnet es una red sem\u00e1ntica para el ingl\u00e9s. En esencia, es similar a un diccionario pero est\u00e1 organizado por *synsets* (conjunto de palabras sin\u00f3nimas) y no por lemas. \n",
      "\n",
      "Podemos acceder a WordNet a trav\u00e9s de NLTK:\n",
      " "
     ]
    },
    {
     "cell_type": "code",
     "collapsed": true,
     "input": [
      "from nltk.corpus import wordnet as wn"
     ],
     "language": "python",
     "metadata": {},
     "outputs": []
    },
    {
     "cell_type": "markdown",
     "metadata": {},
     "source": [
      "Para consultar los synsets en los que aparece una determinada palabra, podemos utilizar el m\u00e9todo `.synsets` como se muestra en el ejemplo. Como resultado obtenemos una lista con todos los synsets en los que aparece la palabra."
     ]
    },
    {
     "cell_type": "code",
     "collapsed": false,
     "input": [
      "print wn.synsets(\"sword\")"
     ],
     "language": "python",
     "metadata": {},
     "outputs": []
    },
    {
     "cell_type": "markdown",
     "metadata": {},
     "source": [
      "En este caso, la palabra *sword* solo aparece en un synset, lo que implica que solo tiene un sentido. Adem\u00e1s, sabemos que es un sustantivo, porque el nombre de synset est\u00e1 etiquetado como `n`.\n",
      "\n",
      "Si guardo el synset en cuesti\u00f3n en una variable (f\u00edjate que me quedo con el primer elemento de la lista que me devuelve el m\u00e9todo `wn.synsets`), podemos acceder a distintos m\u00e9todos:"
     ]
    },
    {
     "cell_type": "code",
     "collapsed": false,
     "input": [
      "sword = wn.synsets(\"sword\")[0]\n",
      "print sword.lemma_names # imprime los lemas del synset => sin\u00f3nimos\n",
      "print sword.definition # imprime la definici\u00f3n del synset"
     ],
     "language": "python",
     "metadata": {},
     "outputs": []
    },
    {
     "cell_type": "markdown",
     "metadata": {},
     "source": [
      "Si escribes `sword.` y pulsas el tabulador podr\u00e1s visualizar todos los m\u00e9todos accesibles desde un objeto synset. Son muchos: si tienes inter\u00e9s en alguno que no se menciona en este resumen, preg\u00fantame o consulta el libro de NLTK.\n",
      "\n",
      "Entre las cosas que s\u00ed nos interesan est\u00e1 el poder acceder a relaciones como hiponimia, meronimia, etc. Por ejemplo, para acceder a todos los hip\u00f3nimos de *sword* con el sentido de *espada*, es decir, a todos los **tipos de** *espada* y a sus definiciones."
     ]
    },
    {
     "cell_type": "code",
     "collapsed": false,
     "input": [
      "for element in sword.hyponyms():\n",
      "    print element.lemma_names\n",
      "    print element.definition"
     ],
     "language": "python",
     "metadata": {},
     "outputs": []
    },
    {
     "cell_type": "markdown",
     "metadata": {},
     "source": [
      "En lugar de bajar hasta los elementos m\u00e1s espec\u00edficos, podemos navegar en la jerarqu\u00eda de sentidos hasta los synsets m\u00e1s generales. Por ejemplo, podemos acceder a los hiper\u00f3nimos inmediatos de un synset a trav\u00e9s del m\u00e9todo `.hypernyms()`:"
     ]
    },
    {
     "cell_type": "code",
     "collapsed": false,
     "input": [
      "for element in sword.hypernyms():\n",
      "    print element.lemma_names\n",
      "    print element.definition"
     ],
     "language": "python",
     "metadata": {},
     "outputs": []
    },
    {
     "cell_type": "markdown",
     "metadata": {},
     "source": [
      "F\u00edjate que con este m\u00e9todo s\u00f3lo subimos un nivel hacia el synset m\u00e1s general. En este caso, comprobamos que *sword* es un tipo de *weapon* o *arm*. Si, por el contrario, lo que nos interesa es acceder a todos los hiper\u00f3nimos de *sword*, navegando hasta el elemento ra\u00edz de la jerarqu\u00eda de WordNet (que siempre es *entity*), podemos utilizar el m\u00e9todo `.hypernym_paths()`:"
     ]
    },
    {
     "cell_type": "code",
     "collapsed": false,
     "input": [
      "for path in sword.hypernym_paths():\n",
      "    for element in path:\n",
      "        print element.lemma_names\n",
      "        print element.definition"
     ],
     "language": "python",
     "metadata": {},
     "outputs": []
    },
    {
     "cell_type": "markdown",
     "metadata": {},
     "source": [
      "F\u00edjate que `.hypernym_paths()` me devuelve una lista de caminos posibles desde el synset en cuesti\u00f3n hasta el elemento *entity*. Por eso itero sobre los elementos `path` que me devuelve `.hypernym_paths()`. En el ejemplo de *sword*, da la casualidad de que solo hay un camino posible. Cada `path` es una lista de synsets, e itero sobre ellos. Por eso utilizo un bucle dentro de otro.\n",
      "\n",
      "Para acceder a los mer\u00f3nimos, es decir, a las partes o elementos constitutivos de *sword*, podemos utilizar el m\u00e9todo `.part_meronyms()`, como se muestra a continuaci\u00f3n."
     ]
    },
    {
     "cell_type": "code",
     "collapsed": false,
     "input": [
      "for element in sword.part_meronyms():\n",
      "    print element.lemma_names\n",
      "    print element.definition"
     ],
     "language": "python",
     "metadata": {},
     "outputs": []
    },
    {
     "cell_type": "markdown",
     "metadata": {},
     "source": [
      "De manera similar, podemos acceder a los hol\u00f3nimos de un synset, es decir, a los elementos de los que *espada* forma parte, a trav\u00e9s del m\u00e9todo `.part_holonyms()`. El synset que estamos utilizando no tiene definidos hol\u00f3nimos, as\u00ed que el ejemplo devuelve una lista vac\u00eda::"
     ]
    },
    {
     "cell_type": "code",
     "collapsed": false,
     "input": [
      "print sword.part_holonyms()"
     ],
     "language": "python",
     "metadata": {},
     "outputs": []
    },
    {
     "cell_type": "markdown",
     "metadata": {},
     "source": [
      "Hay varios m\u00e9todos para acceder a distintos tipos de mer\u00f3nimos y hol\u00f3nimos, aunque no siempre est\u00e1n definidas estas relaciones. Cuando no est\u00e1n definidas, los m\u00e9todos no dan error, simplemente devuelven listas vac\u00edas.\n",
      "\n",
      "Los nombres de estos m\u00e9todos tratan de ser autoexplicativos: por un lado, tenemos `.part_holonyms()`, `.member_holonyms()`, `.substance_holonyms()`, y por otro, `.part_meronyms()`, `.member_meronyms()`, `.substance_meronyms()`."
     ]
    }
   ],
   "metadata": {}
  }
 ]
}