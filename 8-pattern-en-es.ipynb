{
 "metadata": {
  "name": "",
  "signature": "sha256:1ac8bbee12e4e2ffa30a5a8e06dce3f82fe3328a3a1c62e94b86fa6616e1f633"
 },
 "nbformat": 3,
 "nbformat_minor": 0,
 "worksheets": [
  {
   "cells": [
    {
     "cell_type": "markdown",
     "metadata": {},
     "source": [
      "# `pattern.en`: m\u00f3dulo para tareas de PLN en ingl\u00e9s\n",
      "\n",
      "[`pattern.en`](http://www.clips.ua.ac.be/pages/pattern-en) (y, en menor medida, la versi\u00f3n en espa\u00f1ol [`pattern.es`](http://www.clips.ua.ac.be/pages/pattern-es)) es otro conjunto de herramientas (librer\u00eda) muy interesante para realizar procesamiento del lenguaje con Python. La librer\u00eda contiene herramientas para realizar an\u00e1lisis morfol\u00f3gico y an\u00e1lisis de sentimiento.\n",
      "\n",
      "\n",
      "## Herramientas para tratar conjugaciones y flexi\u00f3n\n",
      "\n",
      "\n",
      "### Singulares y plurales\n",
      "\n",
      "Las funciones `pluralize` y `singularize` son autoexplicativas. F\u00edjate en los ejemplos:"
     ]
    },
    {
     "cell_type": "code",
     "collapsed": false,
     "input": [
      "from pattern.en import pluralize, singularize\n",
      "print pluralize(\"house\")\n",
      "print pluralize(\"child\")\n",
      "print pluralize(\"foot\")\n",
      "print pluralize(\"cherry\")\n",
      "\n",
      "print singularize(\"buses\")\n",
      "print singularize(\"wolves\")\n",
      "print singularize(\"feet\")\n",
      "print singularize(\"cherries\")"
     ],
     "language": "python",
     "metadata": {},
     "outputs": []
    },
    {
     "cell_type": "markdown",
     "metadata": {},
     "source": [
      "### Comparativos y superlativos\n",
      "\n",
      "Las funciones `comparative()` y `superlative()` devuelven el comparativo y el superlativo del adjetivo especificado como argumento. Se asumen que las palabras que tengan m\u00e1s de dos s\u00edlabas son regulares."
     ]
    },
    {
     "cell_type": "code",
     "collapsed": false,
     "input": [
      "from pattern.en import comparative, superlative\n",
      "print comparative(\"good\")\n",
      "print comparative(\"bad\")\n",
      "print comparative(\"big\")\n",
      "print comparative(\"expensive\")\n",
      "\n",
      "print superlative(\"good\")\n",
      "print superlative(\"bad\")\n",
      "print superlative(\"big\")\n",
      "print superlative(\"expensive\")"
     ],
     "language": "python",
     "metadata": {},
     "outputs": []
    },
    {
     "cell_type": "markdown",
     "metadata": {},
     "source": [
      "### Conjugaci\u00f3n\n",
      "\n",
      "La funci\u00f3n `conjugate()` devuelve las formas conjugadas de cualquier verbo, si especificamos como argumentos la forma en infinitivo y la forma que queremos conjugar. F\u00edjate en los [siguientes ejemplos](http://www.clips.ua.ac.be/pages/pattern-en#conjugation):\n"
     ]
    },
    {
     "cell_type": "code",
     "collapsed": false,
     "input": [
      "from pattern.en import conjugate\n",
      "\n",
      "print conjugate(\"work\", \"1sg\"), conjugate(\"work\", \"3sg\"), conjugate(\"work\", \"ppl\"), \n",
      "print conjugate(\"work\", \"part\"), conjugate(\"work\", \"ppart\")"
     ],
     "language": "python",
     "metadata": {},
     "outputs": []
    },
    {
     "cell_type": "markdown",
     "metadata": {},
     "source": [
      "F\u00edjate en c\u00f3mo encadeno dos bucles, uno dentro de otro, para imprimir por pantalla las formas conjugadas de varios verbos:"
     ]
    },
    {
     "cell_type": "code",
     "collapsed": false,
     "input": [
      "# defino una lista de verbos\n",
      "verbos = \"be do have work\".split()\n",
      "# defino una lista de formas verbales\n",
      "formas = \"1sg 3sg ppl part ppart\".split()\n",
      "\n",
      "for verbo in verbos:\n",
      "    for forma in formas:\n",
      "        print conjugate(verbo, forma), \n",
      "    print \"\\n\""
     ],
     "language": "python",
     "metadata": {},
     "outputs": []
    },
    {
     "cell_type": "markdown",
     "metadata": {},
     "source": [
      "### Otros juegos ling\u00fc\u00edsticos\n",
      "\n",
      "La funci\u00f3n `quantification()` tiene algunos usos curiosos. Echa un vistazo:"
     ]
    },
    {
     "cell_type": "code",
     "collapsed": false,
     "input": [
      "from pattern.en import quantify\n",
      "print quantify(['goose', 'goose', 'duck', 'chicken', 'chicken', 'chicken'])\n",
      "print quantify('carrot', amount=1000)\n",
      "print quantify({'carrot': 100, 'parrot': 20})"
     ],
     "language": "python",
     "metadata": {},
     "outputs": []
    },
    {
     "cell_type": "markdown",
     "metadata": {},
     "source": [
      "## An\u00e1lisis morfo-sint\u00e1ctico\n",
      "\n",
      "La funci\u00f3n [`parse()`](http://www.clips.ua.ac.be/pages/pattern-en#parser) devuelve el an\u00e1lisis morfo-sint\u00e1tico de la oraci\u00f3n especificada como argumento. Si la ejectuamos sin argumentos adicionales, devuelve tres tipos de an\u00e1lisis, con sus respectivas etiquetas:\n",
      "\n",
      "- an\u00e1lisis morfol\u00f3gico (*part-of-speech tags*)\n",
      "- sintagmas (*chunks*)\n",
      "- relaciones (*relations*)\n",
      "\n",
      "Para m\u00e1s detalles, revisa [el cat\u00e1logo completo de etiquetas](http://www.clips.ua.ac.be/pages/MBSP-tags)."
     ]
    },
    {
     "cell_type": "code",
     "collapsed": false,
     "input": [
      "from pattern.en import parse\n",
      "print parse(\"You were born in a small mid-west town.\")"
     ],
     "language": "python",
     "metadata": {},
     "outputs": []
    },
    {
     "cell_type": "markdown",
     "metadata": {},
     "source": [
      "Podemos configurar otras opciones de etiquetado, utilizando distintos argumentos:"
     ]
    },
    {
     "cell_type": "code",
     "collapsed": false,
     "input": [
      "sentence = \"\"\"In the latest Retro Report video, warnings in the 1980s about a generation of\n",
      "drug-exposed infants overwhelming American society turned out to be wrong.\"\"\"\n",
      "\n",
      "# Parse part-of-speech tags? (NN, JJ, ...)\n",
      "print parse(sentence, tags=True, chunks=False, relations=False), \"\\n\\n\"  \n",
      "\n",
      "# Parse chunks? (NP, VP, PNP, ...)\n",
      "print parse(sentence, tags=False, chunks=True, relations=False), \"\\n\\n\"\n",
      "\n",
      "# Find relations? (SBJ, OBJ, ...)\n",
      "print parse(sentence, tags=False, chunks=False, relations=True), \"\\n\\n\""
     ],
     "language": "python",
     "metadata": {},
     "outputs": []
    },
    {
     "cell_type": "markdown",
     "metadata": {},
     "source": [
      "Por \u00faltimo, podemos imprimir toda esta informaci\u00f3n en forma de tabla, gracias a la funci\u00f3n `pprint`."
     ]
    },
    {
     "cell_type": "code",
     "collapsed": false,
     "input": [
      "from pattern.en import parse, pprint\n",
      "parsing = parse(sentence, relations=True, lemmata=True)\n",
      "pprint(parsing)"
     ],
     "language": "python",
     "metadata": {},
     "outputs": []
    },
    {
     "cell_type": "markdown",
     "metadata": {},
     "source": [
      "## An\u00e1lisis de sentimiento\n",
      "\n",
      "Cualquier enunciado puede clasificarse, *grosso modo* en dos categor\u00edas: hechos y opiniones. Las opiniones son interesantes porque reflejan el sentimiento y la manera de pensar de la gente. \n",
      "\n",
      "Con *an\u00e1lisis del sentimiento* se denomina a una tarea de Procesamiento del Lenguaje consistente en detectar: 1) subjetividad: si un determinado enunciado es objetivo o subjetivo; y 2) polaridad: si el enunciado muestra informaci\u00f3n positiva, neutral o negativa.\n",
      "\n",
      "La funci\u00f3n [`sentiment()`](http://www.clips.ua.ac.be/pages/pattern-en#sentiment) devuelve una tupla `(polaridad, subjectividad)` a partir de una oraci\u00f3n de entrada, donde:\n",
      "\n",
      "- **polaridad** es un n\u00famero real entre -1 (opini\u00f3n negativa) y 1 (opini\u00f3n positiva). 0 indica que la opini\u00f3n es neutra.\n",
      "- **subjetividad** es un n\u00famero real entre 0 (informaci\u00f3n objetiva/factual) y 1 (informaci\u00f3n subjetiva/opini\u00f3n):\n",
      "\n",
      "Veamos algunos ejemplos:"
     ]
    },
    {
     "cell_type": "code",
     "collapsed": false,
     "input": [
      "from pattern.en import sentiment\n",
      "\n",
      "print sentiment(\"I love dogs.\")\n",
      "print sentiment(\"I hate dogs.\")"
     ],
     "language": "python",
     "metadata": {},
     "outputs": []
    },
    {
     "cell_type": "code",
     "collapsed": false,
     "input": [
      "sentences = \"\"\"I like dogs.|I don't like dogs.|I love dogs.|I hate dogs.|I hate that ugly dog of yours.|That's the worst movie I've ever watched.|I think it's the best restaurant in town.|Hey! You look great!| Wow! You look like crap.\"\"\".split(\"|\")\n",
      "\n",
      "for sentence in sentences:\n",
      "    polarity, subjectivity = sentiment(sentence)\n",
      "    if polarity < -0.2:\n",
      "        if subjectivity < 0.5:\n",
      "            print \"mensaje objetivo:\", subjectivity, \"polaridad negativa:\", polarity\n",
      "            print sentence\n",
      "        else:\n",
      "            print \"mensaje subjetivo:\", subjectivity, \"polaridad negativa:\", polarity\n",
      "            print sentence\n",
      "            \n",
      "    elif -0.2 <= polarity <= 0.2:\n",
      "        if subjectivity < 0.5:\n",
      "            print \"mensaje objetivo:\", subjectivity, \"polaridad neutra:\", polarity\n",
      "            print sentence\n",
      "        else:\n",
      "            print \"mensaje subjetivo:\", subjectivity, \"polaridad neutra:\", polarity\n",
      "            print sentence\n",
      "            \n",
      "    elif 0.2 < polarity:\n",
      "        if subjectivity < 0.5:\n",
      "            print \"mensaje objetivo:\", subjectivity, \"polaridad positiva:\", polarity\n",
      "            print sentence\n",
      "        else:\n",
      "            print \"mensaje subjetivo:\", subjectivity, \"polaridad positiva:\", polarity\n",
      "            print sentence\n",
      "    print \"\\n\""
     ],
     "language": "python",
     "metadata": {},
     "outputs": []
    },
    {
     "cell_type": "markdown",
     "metadata": {},
     "source": [
      "# `pattern.es`: m\u00f3dulo para tareas de PLN en espa\u00f1ol\n",
      "\n",
      "La versi\u00f3n en espa\u00f1ol [`pattern.es`](http://www.clips.ua.ac.be/pages/pattern-es) contiene (a\u00fan) un conjunto bastante m\u00e1s limitado de funcionalidades. Las que m\u00e1s nos pueden interesar son las relacionadas con la conjugaci\u00f3n y el an\u00e1lisis morfo-sint\u00e1ctico. Vamos a ver c\u00f3mo podemos usarlas.\n",
      "\n",
      "## Conjugaci\u00f3n\n",
      "\n",
      "La funci\u00f3n `conjugate()` funciona exactamente igual que en la versi\u00f3n en ing\u00e9s: devuelve las formas conjugadas de cualquier verbo, si especificamos como argumentos la forma en infinitivo y la forma que queremos conjugar. Para los curiosos, [la lista de verbos](http://users.ipfw.edu/jehle/verblist.htm) utilizada est\u00e1 disponible en internet."
     ]
    },
    {
     "cell_type": "code",
     "collapsed": false,
     "input": [
      "from pattern.es import conjugate\n",
      "\n",
      "print conjugate(\"soy\", \"inf\")\n",
      "\n",
      "print conjugate(\"ser\", \"present\", 1, \"sg\", mood=\"indicative\")\n",
      "print conjugate(\"ser\", \"1sg\")\n",
      "\n",
      "print conjugate(\"tener\", \"past\", 3, \"sg\", mood=\"subjunctive\")\n",
      "print conjugate(\"tener\", \"3sgp?\")"
     ],
     "language": "python",
     "metadata": {},
     "outputs": []
    },
    {
     "cell_type": "code",
     "collapsed": false,
     "input": [
      "verbos = u\"ser tener cantar arg\u00fcir caber\".split()\n",
      "formas = \"1sg 2sg! 1sg? 3sgp 3sgp? 2plf 3plc inf ppart\".split()\n",
      "\n",
      "for verbo in verbos:\n",
      "    for forma in formas:\n",
      "        print conjugate(verbo, forma), \n",
      "    print \"\\n\""
     ],
     "language": "python",
     "metadata": {},
     "outputs": []
    },
    {
     "cell_type": "markdown",
     "metadata": {},
     "source": [
      "## An\u00e1lisis morfo-sint\u00e1ctico\n",
      "\n",
      "La funci\u00f3n `parse()` funciona igual que la versi\u00f3n en ingl\u00e9s: devuelve el an\u00e1lisis morfo-sint\u00e1tico de la oraci\u00f3n especificada como argumento. Si la ejectuamos sin argumentos adicionales, devuelve tambi\u00e9n los tres tipos de an\u00e1lisis (an\u00e1lisis morfol\u00f3gico, sintagmas y relaciones)."
     ]
    },
    {
     "cell_type": "code",
     "collapsed": false,
     "input": [
      "oracion = \"\"\"El ministro de Educaci\u00f3n, Jos\u00e9 Ignacio Wert, ha afirmado hoy que es \n",
      "'falso' que el proyecto de Ley Org\u00e1nica para la Mejora de la Calidad Educativa \n",
      "(Lomce) ataque las lenguas cooficiales\"\"\"\n",
      "\n",
      "from pattern.es import parse, pprint\n",
      "analisis = parse(oracion)\n",
      "\n",
      "print analisis, \"\\n\\n\"\n",
      "\n",
      "pprint(analisis)"
     ],
     "language": "python",
     "metadata": {},
     "outputs": []
    },
    {
     "cell_type": "markdown",
     "metadata": {},
     "source": [
      "Por defecto, la versi\u00f3n espa\u00f1ola de `parse()` devuelve el mismo conjunto de etiquetas que usa la versi\u00f3n en ingl\u00e9s. Si queremos usar un conjunto de etiquetas m\u00e1s acorde con la informaci\u00f3n morfol\u00f3gica del espa\u00f1ol ([el conjunto de etiquetas Parole](http://www.lsi.upc.edu/~nlp/SVMTool/parole.html)), podemos ejecutar:"
     ]
    },
    {
     "cell_type": "code",
     "collapsed": false,
     "input": [
      "print parse(oracion, tagset=\"parole\")"
     ],
     "language": "python",
     "metadata": {},
     "outputs": []
    }
   ],
   "metadata": {}
  }
 ]
}