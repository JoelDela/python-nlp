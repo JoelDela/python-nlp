{
 "metadata": {
  "name": "",
  "signature": "sha256:b56640c2fa40e99dee2ba8d1727de5542bea37d72f31b5b7469d6fd252e72d7b"
 },
 "nbformat": 3,
 "nbformat_minor": 0,
 "worksheets": [
  {
   "cells": [
    {
     "cell_type": "markdown",
     "metadata": {},
     "source": [
      "# `TextBlob`: otro m\u00f3dulo para tareas de PLN (`NLTK` + `pattern`)\n",
      "\n",
      "[textblob](http://textblob.readthedocs.org/) es una librer\u00eda de procesamiento del texto para Python que permite realizar tareas de Procesamiento del Lenguaje Natural como an\u00e1lisis morfol\u00f3gico, extracci\u00f3n de entidades, an\u00e1lisis de opini\u00f3n, traducci\u00f3n autom\u00e1tica, etc. \n",
      "\n",
      "Est\u00e1 constru\u00edda sobre otras dos librer\u00edas que ya conoces [NLTK](http://www.nltk.org/) y [pattern](http://www.clips.ua.ac.be/pages/pattern-en) y su principal ventaja es que permite combinar el uso de las dos herramientas anteriores en un interfaz m\u00e1s simple.\n",
      "\n",
      "Vamos a apoyarnos en [este tutorial](http://textblob.readthedocs.org/en/dev/quickstart.html) para aprender a utilizar algunas de sus funcionalidades. Lo primero es importar el objeto `TextBlob` que nos permite acceder a todas las herramentas que incluye."
     ]
    },
    {
     "cell_type": "code",
     "collapsed": false,
     "input": [
      "from textblob import TextBlob"
     ],
     "language": "python",
     "metadata": {},
     "outputs": [],
     "prompt_number": 1
    },
    {
     "cell_type": "markdown",
     "metadata": {},
     "source": [
      "Vamos a crear nuestro primer ejemplo de *textblob* a trav\u00e9s del objeto `TextBlob`. Piensa en estos *textblobs* como una especie de cadenas de texto de Python, analaizadas y enriquecidas con algunas caracter\u00edsticas extra. "
     ]
    },
    {
     "cell_type": "code",
     "collapsed": false,
     "input": [
      "texto = '''In new lawsuits brought against the ride-sharing companies Uber and Lyft, the top prosecutors in Los Angeles and San Francisco counties make an important point about the lightly regulated sharing economy. The consumers who participate deserve a  very clear picture of the risks they're taking'''\n",
      "t = TextBlob(texto)"
     ],
     "language": "python",
     "metadata": {},
     "outputs": [],
     "prompt_number": 13
    },
    {
     "cell_type": "code",
     "collapsed": false,
     "input": [
      "t."
     ],
     "language": "python",
     "metadata": {},
     "outputs": [],
     "prompt_number": 4
    },
    {
     "cell_type": "markdown",
     "metadata": {},
     "source": [
      "## Procesando oraciones, palabras y entidades\n",
      "\n",
      "Podemos segmentar en oraciones y en palabras nuestra texto de ejemplo simplemente accediendo a las propiedades `.sentences` y `.words`. Imprimimos por pantalla: "
     ]
    },
    {
     "cell_type": "code",
     "collapsed": false,
     "input": [
      "# imprimimos las oraciones\n",
      "for sentence in t.sentences:\n",
      "    print sentence\n",
      "    print \"--------------\"\n",
      "    \n",
      "# y las palabras    \n",
      "print t.words"
     ],
     "language": "python",
     "metadata": {},
     "outputs": [
      {
       "output_type": "stream",
       "stream": "stdout",
       "text": [
        "In new lawsuits brought against the ride-sharing companies Uber and Lyft, the top prosecutors in Los Angeles and San Francisco counties make an important point about the lightly regulated sharing economy.\n",
        "--------------\n",
        "The consumers who participate deserve a  very clear picture of the risks they're taking\n",
        "--------------\n",
        "['In', 'new', 'lawsuits', 'brought', 'against', 'the', 'ride-sharing', 'companies', 'Uber', 'and', 'Lyft', 'the', 'top', 'prosecutors', 'in', 'Los', 'Angeles', 'and', 'San', 'Francisco', 'counties', 'make', 'an', 'important', 'point', 'about', 'the', 'lightly', 'regulated', 'sharing', 'economy', 'The', 'consumers', 'who', 'participate', 'deserve', 'a', 'very', 'clear', 'picture', 'of', 'the', 'risks', 'they', \"'re\", 'taking']\n"
       ]
      }
     ],
     "prompt_number": 14
    },
    {
     "cell_type": "markdown",
     "metadata": {},
     "source": [
      "La propiedad `.noun_phrases` nos permite acceder a la lista de entidades (en realidad, son sintagmas nominales) inclu\u00eddos en nuestro *textblob*. As\u00ed es como funciona."
     ]
    },
    {
     "cell_type": "code",
     "collapsed": false,
     "input": [
      "print \"el texto de ejemplo contiene\", len(t.noun_phrases), \"entidades\"\n",
      "for element in t.noun_phrases:\n",
      "    print \"-\", element"
     ],
     "language": "python",
     "metadata": {},
     "outputs": [
      {
       "output_type": "stream",
       "stream": "stdout",
       "text": [
        "el texto de ejemplo contiene 8 entidades\n",
        "- new lawsuits\n",
        "- uber\n",
        "- lyft\n",
        "- top prosecutors\n",
        "- los angeles\n",
        "- san francisco\n",
        "- important point\n",
        "- clear picture\n"
       ]
      }
     ],
     "prompt_number": 18
    },
    {
     "cell_type": "code",
     "collapsed": false,
     "input": [],
     "language": "python",
     "metadata": {},
     "outputs": []
    }
   ],
   "metadata": {}
  }
 ]
}